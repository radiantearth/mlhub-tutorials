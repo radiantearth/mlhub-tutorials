{
 "cells": [
  {
   "cell_type": "markdown",
   "id": "77b4743b",
   "metadata": {},
   "source": [
    "<img src='https://radiant-assets.s3-us-west-2.amazonaws.com/PrimaryRadiantMLHubLogo.png' alt='Radiant MLHub Logo' width='300'/>\n",
    "\n",
    "# A Baseline Model for the AgrifieldNet India Competition\n",
    "\n",
    "This notebook walks you through the steps to load the data and build a baseline model using Random Forests for `AgrifieldNet India Competition`."
   ]
  },
  {
   "cell_type": "markdown",
   "id": "501972cf",
   "metadata": {},
   "source": [
    "## Radiant MLHub API\n",
    "\n",
    "\n",
    "The Radiant MLHub API gives access to open Earth imagery training data for machine learning applications. You can learn more about the repository at the [Radiant MLHub site](https://mlhub.earth) and about the organization behind it at the [Radiant Earth Foundation site](https://radiant.earth).\n",
    "\n",
    "Full documentation for the API is available at [docs.mlhub.earth](docs.mlhub.earth).\n",
    "\n",
    "Each item in our collection is explained in json format compliant with [STAC](https://stacspec.org/) [label extension](https://github.com/radiantearth/stac-spec/tree/master/extensions/label) definition."
   ]
  },
  {
   "cell_type": "markdown",
   "id": "be36e335",
   "metadata": {},
   "source": [
    "## Dependencies\n",
    "\n",
    "This notebook utilizes the [`radiant-mlhub` Python client](https://pypi.org/project/radiant-mlhub/) for interacting with the API. This notebook also utilizes the [`pandas` library](https://pandas.pydata.org/). If you are running this notebooks using Binder, then these dependencies have already been installed. If you are running this notebook locally, you will need to install these yourself.\n",
    "\n",
    "See the official [`radiant-mlhub` docs](https://radiant-mlhub.readthedocs.io/) for more documentation of the full functionality of that library."
   ]
  },
  {
   "cell_type": "code",
   "execution_count": 1,
   "id": "28ea6e7d",
   "metadata": {},
   "outputs": [],
   "source": [
    "#import libraries\n",
    "\n",
    "import os\n",
    "import glob\n",
    "import json\n",
    "import getpass\n",
    "import rasterio\n",
    "import numpy as np\n",
    "import pandas as pd\n",
    "from tqdm import tqdm\n",
    "from radiant_mlhub import Dataset\n",
    "from sklearn.ensemble import RandomForestClassifier\n",
    "from sklearn.model_selection import train_test_split"
   ]
  },
  {
   "cell_type": "markdown",
   "id": "835834a1",
   "metadata": {},
   "source": [
    "# DOWNLOAD DATA FROM MLHUB"
   ]
  },
  {
   "cell_type": "code",
   "execution_count": 2,
   "id": "f7ed2188",
   "metadata": {},
   "outputs": [
    {
     "data": {
      "text/plain": [
       "['B02', 'B03', 'B04', 'B08']"
      ]
     },
     "execution_count": 2,
     "metadata": {},
     "output_type": "execute_result"
    }
   ],
   "source": [
    "#For simplicity we select 4 out 12 bands for the this baseline model\n",
    "\n",
    "Full_bands = ['B01', 'B02', 'B03', 'B04','B05', 'B06', 'B07', 'B08','B8A', 'B09', 'B11', 'B12']\n",
    "\n",
    "selected_bands = Full_bands[1:4]  + [Full_bands[-5]]  #'B02', 'B03', 'B04', 'B08'\n",
    "selected_bands"
   ]
  },
  {
   "cell_type": "code",
   "execution_count": 3,
   "id": "ea2e909e",
   "metadata": {},
   "outputs": [],
   "source": [
    "#define dataset collection_id , assets and necessary paths to collections\n",
    "\n",
    "main = 'ref_agrifieldnet_competition_v1'\n",
    "\n",
    "assets = ['field_ids','raster_labels']\n",
    "\n",
    "source_collection = f'{main}_source'\n",
    "train_label_collection = f'{main}_labels_train'\n",
    "test_label_collection = f'{main}_labels_test'"
   ]
  },
  {
   "cell_type": "code",
   "execution_count": 4,
   "id": "cb1f3921",
   "metadata": {
    "scrolled": true
   },
   "outputs": [
    {
     "name": "stdout",
     "output_type": "stream",
     "text": [
      "MLHub API Key: ········\n"
     ]
    },
    {
     "name": "stderr",
     "output_type": "stream",
     "text": [
      "unarchive ref_agrifieldnet_competition_v1.tar.gz: 100%|██████████| 6186/6186 [00:01<00:00, 5793.46it/s]\n",
      "filter by collection ids and asset keys: 231716it [00:00, 3408205.70it/s]         \n",
      "download assets: 100%|██████████| 7905/7905 [16:28<00:00,  8.00it/s]\n"
     ]
    }
   ],
   "source": [
    "#Append your MLHUB_API_KEY after this cell is executed to download dataset\n",
    "\n",
    "os.environ['MLHUB_API_KEY'] =  getpass.getpass(prompt=\"MLHub API Key: \")\n",
    "\n",
    "dataset = Dataset.fetch(main)\n",
    "\n",
    "my_filter = dict(\n",
    "    ref_agrifieldnet_competition_v1_labels_train=assets,\n",
    "\n",
    "    ref_agrifieldnet_competition_v1_labels_test=[assets[0]],\n",
    "\n",
    "    ref_agrifieldnet_competition_v1_source=selected_bands \n",
    ")\n",
    "\n",
    "dataset.download(collection_filter=my_filter)"
   ]
  },
  {
   "cell_type": "markdown",
   "id": "c2b7152b",
   "metadata": {},
   "source": [
    "## Prepare Train data\n",
    "\n",
    "- Load collection.json in labels_train collection's path and retrieve all unique folder ids into a list.\n",
    "- Use unique folder ids to create a list of field.tif and raster_labels.tif paths for all tiles.\n",
    "- Create competition_train_data dataframe for folder_ids and field_paths\n",
    "- Create field_crop_pair dataframe using field_crop_extractor.\n",
    "- Create train_data dataframe using the feature_extractor with argsss (competition_train_data, source_collection)\n",
    "- Group processed dataset by fields and find the pixel average of across the entire field \n",
    "- Merge train_data dataframe and field_crop_pair dataframe on field_id\n",
    "- Split train_df dataframe for model training and evaluation "
   ]
  },
  {
   "cell_type": "code",
   "execution_count": 5,
   "id": "660f4da6",
   "metadata": {},
   "outputs": [],
   "source": [
    "#load collection json and retrieve all unique folder ids \n",
    "#use all unique folder ids to create a list of field and label paths for all tiles\n",
    "\n",
    "with open (f'{main}/{train_label_collection}/collection.json') as f:\n",
    "    train_json = json.load(f)\n",
    "    \n",
    "train_folder_ids = [i['href'].split('_')[-1].split('.')[0] for i in train_json['links'][4:]]\n",
    "\n",
    "train_field_paths = [f'{main}/{train_label_collection}/{train_label_collection}_{i}/field_ids.tif' for i in train_folder_ids]\n",
    "train_label_paths = [f'{main}/{train_label_collection}/{train_label_collection}_{i}/raster_labels.tif' for i in train_folder_ids]"
   ]
  },
  {
   "cell_type": "code",
   "execution_count": 6,
   "id": "d158c3e9",
   "metadata": {},
   "outputs": [
    {
     "data": {
      "text/html": [
       "<div>\n",
       "<style scoped>\n",
       "    .dataframe tbody tr th:only-of-type {\n",
       "        vertical-align: middle;\n",
       "    }\n",
       "\n",
       "    .dataframe tbody tr th {\n",
       "        vertical-align: top;\n",
       "    }\n",
       "\n",
       "    .dataframe thead th {\n",
       "        text-align: right;\n",
       "    }\n",
       "</style>\n",
       "<table border=\"1\" class=\"dataframe\">\n",
       "  <thead>\n",
       "    <tr style=\"text-align: right;\">\n",
       "      <th></th>\n",
       "      <th>unique_folder_id</th>\n",
       "      <th>field_paths</th>\n",
       "    </tr>\n",
       "  </thead>\n",
       "  <tbody>\n",
       "    <tr>\n",
       "      <th>0</th>\n",
       "      <td>28852</td>\n",
       "      <td>ref_agrifieldnet_competition_v1/ref_agrifieldn...</td>\n",
       "    </tr>\n",
       "    <tr>\n",
       "      <th>1</th>\n",
       "      <td>d987c</td>\n",
       "      <td>ref_agrifieldnet_competition_v1/ref_agrifieldn...</td>\n",
       "    </tr>\n",
       "    <tr>\n",
       "      <th>2</th>\n",
       "      <td>ca1d4</td>\n",
       "      <td>ref_agrifieldnet_competition_v1/ref_agrifieldn...</td>\n",
       "    </tr>\n",
       "    <tr>\n",
       "      <th>3</th>\n",
       "      <td>2ec18</td>\n",
       "      <td>ref_agrifieldnet_competition_v1/ref_agrifieldn...</td>\n",
       "    </tr>\n",
       "    <tr>\n",
       "      <th>4</th>\n",
       "      <td>7575d</td>\n",
       "      <td>ref_agrifieldnet_competition_v1/ref_agrifieldn...</td>\n",
       "    </tr>\n",
       "  </tbody>\n",
       "</table>\n",
       "</div>"
      ],
      "text/plain": [
       "  unique_folder_id                                        field_paths\n",
       "0            28852  ref_agrifieldnet_competition_v1/ref_agrifieldn...\n",
       "1            d987c  ref_agrifieldnet_competition_v1/ref_agrifieldn...\n",
       "2            ca1d4  ref_agrifieldnet_competition_v1/ref_agrifieldn...\n",
       "3            2ec18  ref_agrifieldnet_competition_v1/ref_agrifieldn...\n",
       "4            7575d  ref_agrifieldnet_competition_v1/ref_agrifieldn..."
      ]
     },
     "execution_count": 6,
     "metadata": {},
     "output_type": "execute_result"
    }
   ],
   "source": [
    "#create dataset for folder_ids and field_paths\n",
    "\n",
    "competition_train_data = pd.DataFrame(train_folder_ids, columns=['unique_folder_id'])\n",
    "competition_train_data['field_paths'] = train_field_paths\n",
    "competition_train_data.head()"
   ]
  },
  {
   "cell_type": "code",
   "execution_count": 7,
   "id": "a1b5a74b",
   "metadata": {},
   "outputs": [],
   "source": [
    "# PREPROCESS FIELDS AND CROPS IN TILES FOR TRAININIG"
   ]
  },
  {
   "cell_type": "code",
   "execution_count": 8,
   "id": "c2f50ff2",
   "metadata": {},
   "outputs": [],
   "source": [
    "#Extract field_crop Pairs \n",
    "\n",
    "def field_crop_extractor(crop_field_files):\n",
    "    field_crops = {}\n",
    "\n",
    "    for label_field_file in tqdm(crop_field_files):\n",
    "        with rasterio.open(f'{main}/{train_label_collection}/{train_label_collection}_{label_field_file}/field_ids.tif') as src:\n",
    "            field_data = src.read()[0]\n",
    "        with rasterio.open(f'{main}/{train_label_collection}/{train_label_collection}_{label_field_file}/raster_labels.tif') as src:\n",
    "            crop_data = src.read()[0]\n",
    "    \n",
    "        for x in range(0, crop_data.shape[0]):\n",
    "            for y in range(0, crop_data.shape[1]):\n",
    "                field_id = str(field_data[x][y])\n",
    "                field_crop = crop_data[x][y]\n",
    "\n",
    "                if field_crops.get(field_id) is None:\n",
    "                    field_crops[field_id] = []\n",
    "\n",
    "                if field_crop not in field_crops[field_id]:\n",
    "                    field_crops[field_id].append(field_crop)\n",
    "    \n",
    "    field_crop_map  =[[k, v[0]]  for k, v in field_crops.items() ]\n",
    "    field_crop = pd.DataFrame(field_crop_map , columns=['field_id','crop_id'])\n",
    "\n",
    "    return field_crop[field_crop['field_id']!='0']"
   ]
  },
  {
   "cell_type": "code",
   "execution_count": 9,
   "id": "c9fae52b",
   "metadata": {},
   "outputs": [
    {
     "name": "stderr",
     "output_type": "stream",
     "text": [
      "100%|██████████| 1165/1165 [01:36<00:00, 12.09it/s]\n"
     ]
    },
    {
     "data": {
      "text/html": [
       "<div>\n",
       "<style scoped>\n",
       "    .dataframe tbody tr th:only-of-type {\n",
       "        vertical-align: middle;\n",
       "    }\n",
       "\n",
       "    .dataframe tbody tr th {\n",
       "        vertical-align: top;\n",
       "    }\n",
       "\n",
       "    .dataframe thead th {\n",
       "        text-align: right;\n",
       "    }\n",
       "</style>\n",
       "<table border=\"1\" class=\"dataframe\">\n",
       "  <thead>\n",
       "    <tr style=\"text-align: right;\">\n",
       "      <th></th>\n",
       "      <th>field_id</th>\n",
       "      <th>crop_id</th>\n",
       "    </tr>\n",
       "  </thead>\n",
       "  <tbody>\n",
       "    <tr>\n",
       "      <th>1</th>\n",
       "      <td>757</td>\n",
       "      <td>6</td>\n",
       "    </tr>\n",
       "    <tr>\n",
       "      <th>2</th>\n",
       "      <td>756</td>\n",
       "      <td>6</td>\n",
       "    </tr>\n",
       "    <tr>\n",
       "      <th>3</th>\n",
       "      <td>1372</td>\n",
       "      <td>5</td>\n",
       "    </tr>\n",
       "    <tr>\n",
       "      <th>4</th>\n",
       "      <td>1374</td>\n",
       "      <td>1</td>\n",
       "    </tr>\n",
       "    <tr>\n",
       "      <th>5</th>\n",
       "      <td>1986</td>\n",
       "      <td>4</td>\n",
       "    </tr>\n",
       "  </tbody>\n",
       "</table>\n",
       "</div>"
      ],
      "text/plain": [
       "  field_id  crop_id\n",
       "1      757        6\n",
       "2      756        6\n",
       "3     1372        5\n",
       "4     1374        1\n",
       "5     1986        4"
      ]
     },
     "execution_count": 9,
     "metadata": {},
     "output_type": "execute_result"
    }
   ],
   "source": [
    "field_crop_pair = field_crop_extractor(train_folder_ids)\n",
    "field_crop_pair.head()"
   ]
  },
  {
   "cell_type": "code",
   "execution_count": 10,
   "id": "b8db1cbb",
   "metadata": {},
   "outputs": [
    {
     "data": {
      "text/plain": [
       "(5551, 2)"
      ]
     },
     "execution_count": 10,
     "metadata": {},
     "output_type": "execute_result"
    }
   ],
   "source": [
    "field_crop_pair.shape"
   ]
  },
  {
   "cell_type": "code",
   "execution_count": 11,
   "id": "9fe02490",
   "metadata": {},
   "outputs": [],
   "source": [
    "# Our goal is developing a pixel-based Random Forest model. So we will create an X variable\n",
    "# such that, each row is a pixel and each column is one of the band observations mapped to its corresponding field. \n",
    "\n",
    "\n",
    "img_sh = 256\n",
    "n_selected_bands= len(selected_bands)\n",
    "\n",
    "n_obs = 1  #imagery per chip(no time series)\n",
    "\n",
    "def feature_extractor(data_ ,   path ):\n",
    "    '''\n",
    "        data_: Dataframe with 'field_paths' and 'unique_folder_id' columns\n",
    "        path: Path to source collections files\n",
    "\n",
    "        returns: pixel dataframe with corresponding field_ids\n",
    "        '''\n",
    "    \n",
    "    X = np.empty((0, n_selected_bands * n_obs))\n",
    "    X_tile = np.empty((img_sh * img_sh, 0))\n",
    "    X_arrays = []\n",
    "        \n",
    "    field_ids = np.empty((0, 1))\n",
    "\n",
    "    for idx, tile_id in tqdm(enumerate(data_['unique_folder_id'])):\n",
    "        \n",
    "        field_src =   rasterio.open( data_['field_paths'].values[idx])\n",
    "        field_array = field_src.read(1)\n",
    "        field_ids = np.append(field_ids, field_array.flatten())\n",
    "        \n",
    "        \n",
    "        bands_src = [rasterio.open(f'{main}/{path}/{path}_{tile_id}/{band}.tif') for band in selected_bands]\n",
    "        bands_array = [np.expand_dims(band.read(1).flatten(), axis=1) for band in bands_src]\n",
    "        \n",
    "        X_tile = np.hstack(bands_array)\n",
    "\n",
    "        X_arrays.append(X_tile)\n",
    "        \n",
    "\n",
    "    X = np.concatenate(X_arrays)\n",
    "    \n",
    "    data = pd.DataFrame(X, columns=selected_bands)\n",
    "\n",
    "    data['field_id'] = field_ids\n",
    "\n",
    "    return data[data['field_id']!=0]"
   ]
  },
  {
   "cell_type": "code",
   "execution_count": 12,
   "id": "772a9131",
   "metadata": {},
   "outputs": [
    {
     "name": "stderr",
     "output_type": "stream",
     "text": [
      "1165it [01:20, 14.42it/s]\n"
     ]
    },
    {
     "data": {
      "text/html": [
       "<div>\n",
       "<style scoped>\n",
       "    .dataframe tbody tr th:only-of-type {\n",
       "        vertical-align: middle;\n",
       "    }\n",
       "\n",
       "    .dataframe tbody tr th {\n",
       "        vertical-align: top;\n",
       "    }\n",
       "\n",
       "    .dataframe thead th {\n",
       "        text-align: right;\n",
       "    }\n",
       "</style>\n",
       "<table border=\"1\" class=\"dataframe\">\n",
       "  <thead>\n",
       "    <tr style=\"text-align: right;\">\n",
       "      <th></th>\n",
       "      <th>B02</th>\n",
       "      <th>B03</th>\n",
       "      <th>B04</th>\n",
       "      <th>B08</th>\n",
       "      <th>field_id</th>\n",
       "    </tr>\n",
       "  </thead>\n",
       "  <tbody>\n",
       "    <tr>\n",
       "      <th>11031</th>\n",
       "      <td>39</td>\n",
       "      <td>38</td>\n",
       "      <td>38</td>\n",
       "      <td>61</td>\n",
       "      <td>757.0</td>\n",
       "    </tr>\n",
       "    <tr>\n",
       "      <th>11287</th>\n",
       "      <td>39</td>\n",
       "      <td>38</td>\n",
       "      <td>38</td>\n",
       "      <td>63</td>\n",
       "      <td>757.0</td>\n",
       "    </tr>\n",
       "    <tr>\n",
       "      <th>11288</th>\n",
       "      <td>39</td>\n",
       "      <td>38</td>\n",
       "      <td>37</td>\n",
       "      <td>65</td>\n",
       "      <td>757.0</td>\n",
       "    </tr>\n",
       "    <tr>\n",
       "      <th>11289</th>\n",
       "      <td>38</td>\n",
       "      <td>37</td>\n",
       "      <td>36</td>\n",
       "      <td>64</td>\n",
       "      <td>757.0</td>\n",
       "    </tr>\n",
       "    <tr>\n",
       "      <th>11543</th>\n",
       "      <td>39</td>\n",
       "      <td>38</td>\n",
       "      <td>38</td>\n",
       "      <td>64</td>\n",
       "      <td>757.0</td>\n",
       "    </tr>\n",
       "  </tbody>\n",
       "</table>\n",
       "</div>"
      ],
      "text/plain": [
       "       B02  B03  B04  B08  field_id\n",
       "11031   39   38   38   61     757.0\n",
       "11287   39   38   38   63     757.0\n",
       "11288   39   38   37   65     757.0\n",
       "11289   38   37   36   64     757.0\n",
       "11543   39   38   38   64     757.0"
      ]
     },
     "execution_count": 12,
     "metadata": {},
     "output_type": "execute_result"
    }
   ],
   "source": [
    "train_data = feature_extractor(competition_train_data, source_collection)\n",
    "train_data.head()"
   ]
  },
  {
   "cell_type": "code",
   "execution_count": 13,
   "id": "715b676b",
   "metadata": {},
   "outputs": [
    {
     "data": {
      "text/html": [
       "<div>\n",
       "<style scoped>\n",
       "    .dataframe tbody tr th:only-of-type {\n",
       "        vertical-align: middle;\n",
       "    }\n",
       "\n",
       "    .dataframe tbody tr th {\n",
       "        vertical-align: top;\n",
       "    }\n",
       "\n",
       "    .dataframe thead th {\n",
       "        text-align: right;\n",
       "    }\n",
       "</style>\n",
       "<table border=\"1\" class=\"dataframe\">\n",
       "  <thead>\n",
       "    <tr style=\"text-align: right;\">\n",
       "      <th></th>\n",
       "      <th>field_id</th>\n",
       "      <th>B02</th>\n",
       "      <th>B03</th>\n",
       "      <th>B04</th>\n",
       "      <th>B08</th>\n",
       "    </tr>\n",
       "  </thead>\n",
       "  <tbody>\n",
       "    <tr>\n",
       "      <th>0</th>\n",
       "      <td>1</td>\n",
       "      <td>42.444444</td>\n",
       "      <td>42.722222</td>\n",
       "      <td>48.000000</td>\n",
       "      <td>60.277778</td>\n",
       "    </tr>\n",
       "    <tr>\n",
       "      <th>1</th>\n",
       "      <td>2</td>\n",
       "      <td>42.000000</td>\n",
       "      <td>42.166667</td>\n",
       "      <td>47.666667</td>\n",
       "      <td>63.916667</td>\n",
       "    </tr>\n",
       "    <tr>\n",
       "      <th>2</th>\n",
       "      <td>3</td>\n",
       "      <td>42.687500</td>\n",
       "      <td>43.500000</td>\n",
       "      <td>49.187500</td>\n",
       "      <td>66.625000</td>\n",
       "    </tr>\n",
       "    <tr>\n",
       "      <th>3</th>\n",
       "      <td>4</td>\n",
       "      <td>42.466667</td>\n",
       "      <td>43.800000</td>\n",
       "      <td>47.733333</td>\n",
       "      <td>62.600000</td>\n",
       "    </tr>\n",
       "    <tr>\n",
       "      <th>4</th>\n",
       "      <td>5</td>\n",
       "      <td>43.238095</td>\n",
       "      <td>45.238095</td>\n",
       "      <td>49.285714</td>\n",
       "      <td>63.380952</td>\n",
       "    </tr>\n",
       "  </tbody>\n",
       "</table>\n",
       "</div>"
      ],
      "text/plain": [
       "  field_id        B02        B03        B04        B08\n",
       "0        1  42.444444  42.722222  48.000000  60.277778\n",
       "1        2  42.000000  42.166667  47.666667  63.916667\n",
       "2        3  42.687500  43.500000  49.187500  66.625000\n",
       "3        4  42.466667  43.800000  47.733333  62.600000\n",
       "4        5  43.238095  45.238095  49.285714  63.380952"
      ]
     },
     "execution_count": 13,
     "metadata": {},
     "output_type": "execute_result"
    }
   ],
   "source": [
    "# Each field has several pixels in| the data. Here our goal is to build a Random Forest (RF) model using the average values\n",
    "# of the pixels within each field. So, we use `groupby` to take the mean for each field_id\n",
    "\n",
    "train_data_grouped = train_data.groupby(['field_id']).mean().reset_index()\n",
    "train_data_grouped.field_id = [str(int(i)) for i in train_data_grouped.field_id.values]\n",
    "train_data_grouped.head()"
   ]
  },
  {
   "cell_type": "code",
   "execution_count": 14,
   "id": "ec783661",
   "metadata": {},
   "outputs": [
    {
     "data": {
      "text/html": [
       "<div>\n",
       "<style scoped>\n",
       "    .dataframe tbody tr th:only-of-type {\n",
       "        vertical-align: middle;\n",
       "    }\n",
       "\n",
       "    .dataframe tbody tr th {\n",
       "        vertical-align: top;\n",
       "    }\n",
       "\n",
       "    .dataframe thead th {\n",
       "        text-align: right;\n",
       "    }\n",
       "</style>\n",
       "<table border=\"1\" class=\"dataframe\">\n",
       "  <thead>\n",
       "    <tr style=\"text-align: right;\">\n",
       "      <th></th>\n",
       "      <th>field_id</th>\n",
       "      <th>B02</th>\n",
       "      <th>B03</th>\n",
       "      <th>B04</th>\n",
       "      <th>B08</th>\n",
       "      <th>crop_id</th>\n",
       "    </tr>\n",
       "  </thead>\n",
       "  <tbody>\n",
       "    <tr>\n",
       "      <th>0</th>\n",
       "      <td>1</td>\n",
       "      <td>42.444444</td>\n",
       "      <td>42.722222</td>\n",
       "      <td>48.000000</td>\n",
       "      <td>60.277778</td>\n",
       "      <td>1</td>\n",
       "    </tr>\n",
       "    <tr>\n",
       "      <th>1</th>\n",
       "      <td>2</td>\n",
       "      <td>42.000000</td>\n",
       "      <td>42.166667</td>\n",
       "      <td>47.666667</td>\n",
       "      <td>63.916667</td>\n",
       "      <td>1</td>\n",
       "    </tr>\n",
       "    <tr>\n",
       "      <th>2</th>\n",
       "      <td>3</td>\n",
       "      <td>42.687500</td>\n",
       "      <td>43.500000</td>\n",
       "      <td>49.187500</td>\n",
       "      <td>66.625000</td>\n",
       "      <td>1</td>\n",
       "    </tr>\n",
       "    <tr>\n",
       "      <th>3</th>\n",
       "      <td>4</td>\n",
       "      <td>42.466667</td>\n",
       "      <td>43.800000</td>\n",
       "      <td>47.733333</td>\n",
       "      <td>62.600000</td>\n",
       "      <td>2</td>\n",
       "    </tr>\n",
       "    <tr>\n",
       "      <th>4</th>\n",
       "      <td>5</td>\n",
       "      <td>43.238095</td>\n",
       "      <td>45.238095</td>\n",
       "      <td>49.285714</td>\n",
       "      <td>63.380952</td>\n",
       "      <td>2</td>\n",
       "    </tr>\n",
       "  </tbody>\n",
       "</table>\n",
       "</div>"
      ],
      "text/plain": [
       "  field_id        B02        B03        B04        B08  crop_id\n",
       "0        1  42.444444  42.722222  48.000000  60.277778        1\n",
       "1        2  42.000000  42.166667  47.666667  63.916667        1\n",
       "2        3  42.687500  43.500000  49.187500  66.625000        1\n",
       "3        4  42.466667  43.800000  47.733333  62.600000        2\n",
       "4        5  43.238095  45.238095  49.285714  63.380952        2"
      ]
     },
     "execution_count": 14,
     "metadata": {},
     "output_type": "execute_result"
    }
   ],
   "source": [
    "# merge pixel dataframe to field_crop_pair dataframe\n",
    "\n",
    "train_df = pd.merge(train_data_grouped, field_crop_pair , on='field_id' )\n",
    "train_df.head()"
   ]
  },
  {
   "cell_type": "code",
   "execution_count": 15,
   "id": "e56ef29e",
   "metadata": {},
   "outputs": [
    {
     "data": {
      "text/html": [
       "<div>\n",
       "<style scoped>\n",
       "    .dataframe tbody tr th:only-of-type {\n",
       "        vertical-align: middle;\n",
       "    }\n",
       "\n",
       "    .dataframe tbody tr th {\n",
       "        vertical-align: top;\n",
       "    }\n",
       "\n",
       "    .dataframe thead th {\n",
       "        text-align: right;\n",
       "    }\n",
       "</style>\n",
       "<table border=\"1\" class=\"dataframe\">\n",
       "  <thead>\n",
       "    <tr style=\"text-align: right;\">\n",
       "      <th></th>\n",
       "      <th>field_id</th>\n",
       "      <th>B02</th>\n",
       "      <th>B03</th>\n",
       "      <th>B04</th>\n",
       "      <th>B08</th>\n",
       "      <th>crop_id</th>\n",
       "    </tr>\n",
       "  </thead>\n",
       "  <tbody>\n",
       "    <tr>\n",
       "      <th>5543</th>\n",
       "      <td>7322</td>\n",
       "      <td>36.500000</td>\n",
       "      <td>32.250000</td>\n",
       "      <td>26.750000</td>\n",
       "      <td>64.500000</td>\n",
       "      <td>4</td>\n",
       "    </tr>\n",
       "    <tr>\n",
       "      <th>5544</th>\n",
       "      <td>7323</td>\n",
       "      <td>36.000000</td>\n",
       "      <td>31.000000</td>\n",
       "      <td>24.090909</td>\n",
       "      <td>71.090909</td>\n",
       "      <td>4</td>\n",
       "    </tr>\n",
       "    <tr>\n",
       "      <th>5545</th>\n",
       "      <td>7324</td>\n",
       "      <td>36.533333</td>\n",
       "      <td>31.666667</td>\n",
       "      <td>25.333333</td>\n",
       "      <td>67.400000</td>\n",
       "      <td>4</td>\n",
       "    </tr>\n",
       "    <tr>\n",
       "      <th>5546</th>\n",
       "      <td>7326</td>\n",
       "      <td>39.000000</td>\n",
       "      <td>34.576923</td>\n",
       "      <td>30.653846</td>\n",
       "      <td>59.269231</td>\n",
       "      <td>9</td>\n",
       "    </tr>\n",
       "    <tr>\n",
       "      <th>5547</th>\n",
       "      <td>7327</td>\n",
       "      <td>37.851852</td>\n",
       "      <td>32.629630</td>\n",
       "      <td>26.555556</td>\n",
       "      <td>63.925926</td>\n",
       "      <td>9</td>\n",
       "    </tr>\n",
       "    <tr>\n",
       "      <th>5548</th>\n",
       "      <td>7328</td>\n",
       "      <td>40.100000</td>\n",
       "      <td>35.100000</td>\n",
       "      <td>29.650000</td>\n",
       "      <td>60.550000</td>\n",
       "      <td>9</td>\n",
       "    </tr>\n",
       "    <tr>\n",
       "      <th>5549</th>\n",
       "      <td>7331</td>\n",
       "      <td>40.130435</td>\n",
       "      <td>35.130435</td>\n",
       "      <td>30.000000</td>\n",
       "      <td>62.608696</td>\n",
       "      <td>9</td>\n",
       "    </tr>\n",
       "    <tr>\n",
       "      <th>5550</th>\n",
       "      <td>7332</td>\n",
       "      <td>39.653846</td>\n",
       "      <td>35.230769</td>\n",
       "      <td>29.423077</td>\n",
       "      <td>53.346154</td>\n",
       "      <td>36</td>\n",
       "    </tr>\n",
       "  </tbody>\n",
       "</table>\n",
       "</div>"
      ],
      "text/plain": [
       "     field_id        B02        B03        B04        B08  crop_id\n",
       "5543     7322  36.500000  32.250000  26.750000  64.500000        4\n",
       "5544     7323  36.000000  31.000000  24.090909  71.090909        4\n",
       "5545     7324  36.533333  31.666667  25.333333  67.400000        4\n",
       "5546     7326  39.000000  34.576923  30.653846  59.269231        9\n",
       "5547     7327  37.851852  32.629630  26.555556  63.925926        9\n",
       "5548     7328  40.100000  35.100000  29.650000  60.550000        9\n",
       "5549     7331  40.130435  35.130435  30.000000  62.608696        9\n",
       "5550     7332  39.653846  35.230769  29.423077  53.346154       36"
      ]
     },
     "execution_count": 15,
     "metadata": {},
     "output_type": "execute_result"
    }
   ],
   "source": [
    "train_df.tail(8)"
   ]
  },
  {
   "cell_type": "code",
   "execution_count": 16,
   "id": "46c2df79",
   "metadata": {},
   "outputs": [
    {
     "data": {
      "text/plain": [
       "(5551, 6)"
      ]
     },
     "execution_count": 16,
     "metadata": {},
     "output_type": "execute_result"
    }
   ],
   "source": [
    "train_df.shape"
   ]
  },
  {
   "cell_type": "code",
   "execution_count": 17,
   "id": "b12f4b4d",
   "metadata": {},
   "outputs": [],
   "source": [
    "# split data for model training and evaluation \n",
    "\n",
    "X_train, X_test, y_train, y_test =  train_test_split(train_df.drop(['field_id', 'crop_id'], axis=1), train_df['crop_id'] , test_size=0.3, random_state=24)"
   ]
  },
  {
   "cell_type": "code",
   "execution_count": 18,
   "id": "85d6254d",
   "metadata": {},
   "outputs": [
    {
     "data": {
      "text/plain": [
       "((3885, 4), (1666, 4), (3885,), (1666,))"
      ]
     },
     "execution_count": 18,
     "metadata": {},
     "output_type": "execute_result"
    }
   ],
   "source": [
    "X_train.shape, X_test.shape, y_train.shape, y_test.shape"
   ]
  },
  {
   "cell_type": "markdown",
   "id": "a8b563b9",
   "metadata": {},
   "source": [
    "# MODEL TRAINING"
   ]
  },
  {
   "cell_type": "code",
   "execution_count": 19,
   "id": "d42f13dc",
   "metadata": {},
   "outputs": [],
   "source": [
    "# We ran a simple hyperparameter tuning for the number of trees, and concluded to use:\n",
    "n_trees = 20"
   ]
  },
  {
   "cell_type": "code",
   "execution_count": 20,
   "id": "8020d36d",
   "metadata": {},
   "outputs": [
    {
     "data": {
      "text/html": [
       "<style>#sk-container-id-1 {color: black;background-color: white;}#sk-container-id-1 pre{padding: 0;}#sk-container-id-1 div.sk-toggleable {background-color: white;}#sk-container-id-1 label.sk-toggleable__label {cursor: pointer;display: block;width: 100%;margin-bottom: 0;padding: 0.3em;box-sizing: border-box;text-align: center;}#sk-container-id-1 label.sk-toggleable__label-arrow:before {content: \"▸\";float: left;margin-right: 0.25em;color: #696969;}#sk-container-id-1 label.sk-toggleable__label-arrow:hover:before {color: black;}#sk-container-id-1 div.sk-estimator:hover label.sk-toggleable__label-arrow:before {color: black;}#sk-container-id-1 div.sk-toggleable__content {max-height: 0;max-width: 0;overflow: hidden;text-align: left;background-color: #f0f8ff;}#sk-container-id-1 div.sk-toggleable__content pre {margin: 0.2em;color: black;border-radius: 0.25em;background-color: #f0f8ff;}#sk-container-id-1 input.sk-toggleable__control:checked~div.sk-toggleable__content {max-height: 200px;max-width: 100%;overflow: auto;}#sk-container-id-1 input.sk-toggleable__control:checked~label.sk-toggleable__label-arrow:before {content: \"▾\";}#sk-container-id-1 div.sk-estimator input.sk-toggleable__control:checked~label.sk-toggleable__label {background-color: #d4ebff;}#sk-container-id-1 div.sk-label input.sk-toggleable__control:checked~label.sk-toggleable__label {background-color: #d4ebff;}#sk-container-id-1 input.sk-hidden--visually {border: 0;clip: rect(1px 1px 1px 1px);clip: rect(1px, 1px, 1px, 1px);height: 1px;margin: -1px;overflow: hidden;padding: 0;position: absolute;width: 1px;}#sk-container-id-1 div.sk-estimator {font-family: monospace;background-color: #f0f8ff;border: 1px dotted black;border-radius: 0.25em;box-sizing: border-box;margin-bottom: 0.5em;}#sk-container-id-1 div.sk-estimator:hover {background-color: #d4ebff;}#sk-container-id-1 div.sk-parallel-item::after {content: \"\";width: 100%;border-bottom: 1px solid gray;flex-grow: 1;}#sk-container-id-1 div.sk-label:hover label.sk-toggleable__label {background-color: #d4ebff;}#sk-container-id-1 div.sk-serial::before {content: \"\";position: absolute;border-left: 1px solid gray;box-sizing: border-box;top: 0;bottom: 0;left: 50%;z-index: 0;}#sk-container-id-1 div.sk-serial {display: flex;flex-direction: column;align-items: center;background-color: white;padding-right: 0.2em;padding-left: 0.2em;position: relative;}#sk-container-id-1 div.sk-item {position: relative;z-index: 1;}#sk-container-id-1 div.sk-parallel {display: flex;align-items: stretch;justify-content: center;background-color: white;position: relative;}#sk-container-id-1 div.sk-item::before, #sk-container-id-1 div.sk-parallel-item::before {content: \"\";position: absolute;border-left: 1px solid gray;box-sizing: border-box;top: 0;bottom: 0;left: 50%;z-index: -1;}#sk-container-id-1 div.sk-parallel-item {display: flex;flex-direction: column;z-index: 1;position: relative;background-color: white;}#sk-container-id-1 div.sk-parallel-item:first-child::after {align-self: flex-end;width: 50%;}#sk-container-id-1 div.sk-parallel-item:last-child::after {align-self: flex-start;width: 50%;}#sk-container-id-1 div.sk-parallel-item:only-child::after {width: 0;}#sk-container-id-1 div.sk-dashed-wrapped {border: 1px dashed gray;margin: 0 0.4em 0.5em 0.4em;box-sizing: border-box;padding-bottom: 0.4em;background-color: white;}#sk-container-id-1 div.sk-label label {font-family: monospace;font-weight: bold;display: inline-block;line-height: 1.2em;}#sk-container-id-1 div.sk-label-container {text-align: center;}#sk-container-id-1 div.sk-container {/* jupyter's `normalize.less` sets `[hidden] { display: none; }` but bootstrap.min.css set `[hidden] { display: none !important; }` so we also need the `!important` here to be able to override the default hidden behavior on the sphinx rendered scikit-learn.org. See: https://github.com/scikit-learn/scikit-learn/issues/21755 */display: inline-block !important;position: relative;}#sk-container-id-1 div.sk-text-repr-fallback {display: none;}</style><div id=\"sk-container-id-1\" class=\"sk-top-container\"><div class=\"sk-text-repr-fallback\"><pre>RandomForestClassifier(n_estimators=20, n_jobs=3, random_state=0)</pre><b>In a Jupyter environment, please rerun this cell to show the HTML representation or trust the notebook. <br />On GitHub, the HTML representation is unable to render, please try loading this page with nbviewer.org.</b></div><div class=\"sk-container\" hidden><div class=\"sk-item\"><div class=\"sk-estimator sk-toggleable\"><input class=\"sk-toggleable__control sk-hidden--visually\" id=\"sk-estimator-id-1\" type=\"checkbox\" checked><label for=\"sk-estimator-id-1\" class=\"sk-toggleable__label sk-toggleable__label-arrow\">RandomForestClassifier</label><div class=\"sk-toggleable__content\"><pre>RandomForestClassifier(n_estimators=20, n_jobs=3, random_state=0)</pre></div></div></div></div></div>"
      ],
      "text/plain": [
       "RandomForestClassifier(n_estimators=20, n_jobs=3, random_state=0)"
      ]
     },
     "execution_count": 20,
     "metadata": {},
     "output_type": "execute_result"
    }
   ],
   "source": [
    "# Fitting the RF model\n",
    "rf = RandomForestClassifier(n_estimators = n_trees, random_state = 0, n_jobs = 3)\n",
    "rf.fit(X_train, y_train.astype(int))"
   ]
  },
  {
   "cell_type": "code",
   "execution_count": 21,
   "id": "920fa810",
   "metadata": {},
   "outputs": [
    {
     "data": {
      "text/plain": [
       "array([ 1,  2,  3,  4,  5,  6,  8,  9, 13, 14, 15, 16, 36])"
      ]
     },
     "execution_count": 21,
     "metadata": {},
     "output_type": "execute_result"
    }
   ],
   "source": [
    "# trained classes\n",
    "\n",
    "rf.classes_"
   ]
  },
  {
   "cell_type": "markdown",
   "id": "79fd269d",
   "metadata": {},
   "source": [
    "# MODEL EVALUATION"
   ]
  },
  {
   "cell_type": "code",
   "execution_count": 22,
   "id": "0b697b14",
   "metadata": {
    "scrolled": true
   },
   "outputs": [
    {
     "name": "stdout",
     "output_type": "stream",
     "text": [
      "              precision    recall  f1-score   support\n",
      "\n",
      "           1       0.64      0.81      0.71       616\n",
      "           2       0.36      0.30      0.33       284\n",
      "           3       0.00      0.00      0.00        30\n",
      "           4       0.72      0.71      0.71       504\n",
      "           5       0.00      0.00      0.00         6\n",
      "           6       0.33      0.13      0.19        54\n",
      "           8       0.00      0.00      0.00        14\n",
      "           9       0.61      0.72      0.66        89\n",
      "          13       0.33      0.08      0.12        13\n",
      "          14       0.00      0.00      0.00         5\n",
      "          15       0.00      0.00      0.00        12\n",
      "          16       0.00      0.00      0.00         4\n",
      "          36       0.25      0.09      0.13        35\n",
      "\n",
      "    accuracy                           0.61      1666\n",
      "   macro avg       0.25      0.22      0.22      1666\n",
      "weighted avg       0.56      0.61      0.58      1666\n",
      "\n"
     ]
    },
    {
     "name": "stderr",
     "output_type": "stream",
     "text": [
      "/usr/local/lib/python3.8/site-packages/sklearn/metrics/_classification.py:1334: UndefinedMetricWarning: Precision and F-score are ill-defined and being set to 0.0 in labels with no predicted samples. Use `zero_division` parameter to control this behavior.\n",
      "  _warn_prf(average, modifier, msg_start, len(result))\n",
      "/usr/local/lib/python3.8/site-packages/sklearn/metrics/_classification.py:1334: UndefinedMetricWarning: Precision and F-score are ill-defined and being set to 0.0 in labels with no predicted samples. Use `zero_division` parameter to control this behavior.\n",
      "  _warn_prf(average, modifier, msg_start, len(result))\n",
      "/usr/local/lib/python3.8/site-packages/sklearn/metrics/_classification.py:1334: UndefinedMetricWarning: Precision and F-score are ill-defined and being set to 0.0 in labels with no predicted samples. Use `zero_division` parameter to control this behavior.\n",
      "  _warn_prf(average, modifier, msg_start, len(result))\n"
     ]
    }
   ],
   "source": [
    "from sklearn.metrics import classification_report\n",
    "y_pred_crop = rf.predict(X_test)\n",
    "\n",
    "print(classification_report(y_test,y_pred_crop))"
   ]
  },
  {
   "cell_type": "markdown",
   "id": "1883c0b7",
   "metadata": {},
   "source": [
    "## Prepare Test data\n",
    "\n",
    "- Load collection json and retrieve all unique folder ids \n",
    "- Use unique folder ids to create a list of field.tif paths for all tiles\n",
    "- Create competition_test_data dataframe for folder_ids and field_paths\n",
    "- Create test_data dataframe using the feature_extractor with argsss (competition_test_data, source_collection)\n",
    "- Group processed dataset by fields and find the pixel average of across the entire field "
   ]
  },
  {
   "cell_type": "code",
   "execution_count": 23,
   "id": "b2b2a7f1",
   "metadata": {},
   "outputs": [],
   "source": [
    "with open (f'{main}/{test_label_collection}/collection.json') as f:\n",
    "    test_json = json.load(f)\n",
    "    \n",
    "test_folder_ids = [i['href'].split('_')[-1].split('.')[0] for i in test_json['links'][4:]]\n",
    "\n",
    "test_field_paths = [f'{main}/{test_label_collection}/{test_label_collection}_{i}/field_ids.tif' for i in test_folder_ids]"
   ]
  },
  {
   "cell_type": "code",
   "execution_count": 24,
   "id": "faa34425",
   "metadata": {},
   "outputs": [
    {
     "data": {
      "text/html": [
       "<div>\n",
       "<style scoped>\n",
       "    .dataframe tbody tr th:only-of-type {\n",
       "        vertical-align: middle;\n",
       "    }\n",
       "\n",
       "    .dataframe tbody tr th {\n",
       "        vertical-align: top;\n",
       "    }\n",
       "\n",
       "    .dataframe thead th {\n",
       "        text-align: right;\n",
       "    }\n",
       "</style>\n",
       "<table border=\"1\" class=\"dataframe\">\n",
       "  <thead>\n",
       "    <tr style=\"text-align: right;\">\n",
       "      <th></th>\n",
       "      <th>unique_folder_id</th>\n",
       "      <th>field_paths</th>\n",
       "    </tr>\n",
       "  </thead>\n",
       "  <tbody>\n",
       "    <tr>\n",
       "      <th>0</th>\n",
       "      <td>6199c</td>\n",
       "      <td>ref_agrifieldnet_competition_v1/ref_agrifieldn...</td>\n",
       "    </tr>\n",
       "    <tr>\n",
       "      <th>1</th>\n",
       "      <td>6c81d</td>\n",
       "      <td>ref_agrifieldnet_competition_v1/ref_agrifieldn...</td>\n",
       "    </tr>\n",
       "    <tr>\n",
       "      <th>2</th>\n",
       "      <td>1ebeb</td>\n",
       "      <td>ref_agrifieldnet_competition_v1/ref_agrifieldn...</td>\n",
       "    </tr>\n",
       "    <tr>\n",
       "      <th>3</th>\n",
       "      <td>586a2</td>\n",
       "      <td>ref_agrifieldnet_competition_v1/ref_agrifieldn...</td>\n",
       "    </tr>\n",
       "    <tr>\n",
       "      <th>4</th>\n",
       "      <td>65812</td>\n",
       "      <td>ref_agrifieldnet_competition_v1/ref_agrifieldn...</td>\n",
       "    </tr>\n",
       "  </tbody>\n",
       "</table>\n",
       "</div>"
      ],
      "text/plain": [
       "  unique_folder_id                                        field_paths\n",
       "0            6199c  ref_agrifieldnet_competition_v1/ref_agrifieldn...\n",
       "1            6c81d  ref_agrifieldnet_competition_v1/ref_agrifieldn...\n",
       "2            1ebeb  ref_agrifieldnet_competition_v1/ref_agrifieldn...\n",
       "3            586a2  ref_agrifieldnet_competition_v1/ref_agrifieldn...\n",
       "4            65812  ref_agrifieldnet_competition_v1/ref_agrifieldn..."
      ]
     },
     "execution_count": 24,
     "metadata": {},
     "output_type": "execute_result"
    }
   ],
   "source": [
    "competition_test_data = pd.DataFrame(test_folder_ids , columns=['unique_folder_id'])\n",
    "competition_test_data['field_paths'] = test_field_paths\n",
    "competition_test_data.head()"
   ]
  },
  {
   "cell_type": "code",
   "execution_count": 25,
   "id": "016a7c68",
   "metadata": {
    "scrolled": true
   },
   "outputs": [
    {
     "name": "stderr",
     "output_type": "stream",
     "text": [
      "707it [00:34, 20.62it/s]\n"
     ]
    },
    {
     "data": {
      "text/html": [
       "<div>\n",
       "<style scoped>\n",
       "    .dataframe tbody tr th:only-of-type {\n",
       "        vertical-align: middle;\n",
       "    }\n",
       "\n",
       "    .dataframe tbody tr th {\n",
       "        vertical-align: top;\n",
       "    }\n",
       "\n",
       "    .dataframe thead th {\n",
       "        text-align: right;\n",
       "    }\n",
       "</style>\n",
       "<table border=\"1\" class=\"dataframe\">\n",
       "  <thead>\n",
       "    <tr style=\"text-align: right;\">\n",
       "      <th></th>\n",
       "      <th>B02</th>\n",
       "      <th>B03</th>\n",
       "      <th>B04</th>\n",
       "      <th>B08</th>\n",
       "      <th>field_id</th>\n",
       "    </tr>\n",
       "  </thead>\n",
       "  <tbody>\n",
       "    <tr>\n",
       "      <th>35283</th>\n",
       "      <td>35</td>\n",
       "      <td>35</td>\n",
       "      <td>35</td>\n",
       "      <td>59</td>\n",
       "      <td>5407.0</td>\n",
       "    </tr>\n",
       "    <tr>\n",
       "      <th>35284</th>\n",
       "      <td>34</td>\n",
       "      <td>33</td>\n",
       "      <td>34</td>\n",
       "      <td>58</td>\n",
       "      <td>5407.0</td>\n",
       "    </tr>\n",
       "    <tr>\n",
       "      <th>35538</th>\n",
       "      <td>36</td>\n",
       "      <td>36</td>\n",
       "      <td>37</td>\n",
       "      <td>56</td>\n",
       "      <td>5407.0</td>\n",
       "    </tr>\n",
       "    <tr>\n",
       "      <th>35539</th>\n",
       "      <td>35</td>\n",
       "      <td>36</td>\n",
       "      <td>34</td>\n",
       "      <td>75</td>\n",
       "      <td>5407.0</td>\n",
       "    </tr>\n",
       "    <tr>\n",
       "      <th>35540</th>\n",
       "      <td>33</td>\n",
       "      <td>34</td>\n",
       "      <td>31</td>\n",
       "      <td>79</td>\n",
       "      <td>5407.0</td>\n",
       "    </tr>\n",
       "  </tbody>\n",
       "</table>\n",
       "</div>"
      ],
      "text/plain": [
       "       B02  B03  B04  B08  field_id\n",
       "35283   35   35   35   59    5407.0\n",
       "35284   34   33   34   58    5407.0\n",
       "35538   36   36   37   56    5407.0\n",
       "35539   35   36   34   75    5407.0\n",
       "35540   33   34   31   79    5407.0"
      ]
     },
     "execution_count": 25,
     "metadata": {},
     "output_type": "execute_result"
    }
   ],
   "source": [
    "test_data = feature_extractor(competition_test_data,  source_collection)\n",
    "test_data.head()"
   ]
  },
  {
   "cell_type": "code",
   "execution_count": 26,
   "id": "cc75de26",
   "metadata": {},
   "outputs": [
    {
     "data": {
      "text/html": [
       "<div>\n",
       "<style scoped>\n",
       "    .dataframe tbody tr th:only-of-type {\n",
       "        vertical-align: middle;\n",
       "    }\n",
       "\n",
       "    .dataframe tbody tr th {\n",
       "        vertical-align: top;\n",
       "    }\n",
       "\n",
       "    .dataframe thead th {\n",
       "        text-align: right;\n",
       "    }\n",
       "</style>\n",
       "<table border=\"1\" class=\"dataframe\">\n",
       "  <thead>\n",
       "    <tr style=\"text-align: right;\">\n",
       "      <th></th>\n",
       "      <th>field_id</th>\n",
       "      <th>B02</th>\n",
       "      <th>B03</th>\n",
       "      <th>B04</th>\n",
       "      <th>B08</th>\n",
       "    </tr>\n",
       "  </thead>\n",
       "  <tbody>\n",
       "    <tr>\n",
       "      <th>0</th>\n",
       "      <td>11</td>\n",
       "      <td>39.057971</td>\n",
       "      <td>38.420290</td>\n",
       "      <td>38.405797</td>\n",
       "      <td>64.405797</td>\n",
       "    </tr>\n",
       "    <tr>\n",
       "      <th>1</th>\n",
       "      <td>13</td>\n",
       "      <td>40.692308</td>\n",
       "      <td>41.307692</td>\n",
       "      <td>46.769231</td>\n",
       "      <td>65.461538</td>\n",
       "    </tr>\n",
       "    <tr>\n",
       "      <th>2</th>\n",
       "      <td>19</td>\n",
       "      <td>41.918367</td>\n",
       "      <td>42.530612</td>\n",
       "      <td>44.367347</td>\n",
       "      <td>66.265306</td>\n",
       "    </tr>\n",
       "    <tr>\n",
       "      <th>3</th>\n",
       "      <td>21</td>\n",
       "      <td>40.250000</td>\n",
       "      <td>40.750000</td>\n",
       "      <td>40.000000</td>\n",
       "      <td>69.583333</td>\n",
       "    </tr>\n",
       "    <tr>\n",
       "      <th>4</th>\n",
       "      <td>25</td>\n",
       "      <td>44.300000</td>\n",
       "      <td>47.200000</td>\n",
       "      <td>52.900000</td>\n",
       "      <td>71.200000</td>\n",
       "    </tr>\n",
       "    <tr>\n",
       "      <th>...</th>\n",
       "      <td>...</td>\n",
       "      <td>...</td>\n",
       "      <td>...</td>\n",
       "      <td>...</td>\n",
       "      <td>...</td>\n",
       "    </tr>\n",
       "    <tr>\n",
       "      <th>1525</th>\n",
       "      <td>7319</td>\n",
       "      <td>36.333333</td>\n",
       "      <td>31.222222</td>\n",
       "      <td>24.722222</td>\n",
       "      <td>67.833333</td>\n",
       "    </tr>\n",
       "    <tr>\n",
       "      <th>1526</th>\n",
       "      <td>7325</td>\n",
       "      <td>37.735294</td>\n",
       "      <td>32.205882</td>\n",
       "      <td>26.205882</td>\n",
       "      <td>66.970588</td>\n",
       "    </tr>\n",
       "    <tr>\n",
       "      <th>1527</th>\n",
       "      <td>7329</td>\n",
       "      <td>40.588235</td>\n",
       "      <td>35.823529</td>\n",
       "      <td>30.823529</td>\n",
       "      <td>59.352941</td>\n",
       "    </tr>\n",
       "    <tr>\n",
       "      <th>1528</th>\n",
       "      <td>7330</td>\n",
       "      <td>40.000000</td>\n",
       "      <td>34.750000</td>\n",
       "      <td>29.125000</td>\n",
       "      <td>63.500000</td>\n",
       "    </tr>\n",
       "    <tr>\n",
       "      <th>1529</th>\n",
       "      <td>7333</td>\n",
       "      <td>40.750000</td>\n",
       "      <td>36.125000</td>\n",
       "      <td>33.125000</td>\n",
       "      <td>57.375000</td>\n",
       "    </tr>\n",
       "  </tbody>\n",
       "</table>\n",
       "<p>1530 rows × 5 columns</p>\n",
       "</div>"
      ],
      "text/plain": [
       "     field_id        B02        B03        B04        B08\n",
       "0          11  39.057971  38.420290  38.405797  64.405797\n",
       "1          13  40.692308  41.307692  46.769231  65.461538\n",
       "2          19  41.918367  42.530612  44.367347  66.265306\n",
       "3          21  40.250000  40.750000  40.000000  69.583333\n",
       "4          25  44.300000  47.200000  52.900000  71.200000\n",
       "...       ...        ...        ...        ...        ...\n",
       "1525     7319  36.333333  31.222222  24.722222  67.833333\n",
       "1526     7325  37.735294  32.205882  26.205882  66.970588\n",
       "1527     7329  40.588235  35.823529  30.823529  59.352941\n",
       "1528     7330  40.000000  34.750000  29.125000  63.500000\n",
       "1529     7333  40.750000  36.125000  33.125000  57.375000\n",
       "\n",
       "[1530 rows x 5 columns]"
      ]
     },
     "execution_count": 26,
     "metadata": {},
     "output_type": "execute_result"
    }
   ],
   "source": [
    "# Each field has several pixels in| the data. Here our goal is to build a Random Forest (RF) model using the average values\n",
    "# of the pixels within each field. So, we use `groupby` to take the mean for each field_id\n",
    "\n",
    "test_data_grouped = test_data.groupby(['field_id']).mean().reset_index()\n",
    "test_data_grouped.field_id = [str(int(i)) for i in test_data_grouped.field_id.values]\n",
    "test_data_grouped"
   ]
  },
  {
   "cell_type": "markdown",
   "id": "905d25cb",
   "metadata": {},
   "source": [
    "# Submit predictions with field_ids and class probabilites\n",
    "\n",
    "- run predictions with trained model\n",
    "- pass to multioutput predictions to csv file with field_id as index\n",
    "- save output file as submission.csv"
   ]
  },
  {
   "cell_type": "code",
   "execution_count": 27,
   "id": "de8a6f6b",
   "metadata": {},
   "outputs": [],
   "source": [
    "# extract crop_id-label dictionary\n",
    "\n",
    "with open('ref_agrifieldnet_competition_v1/ref_agrifieldnet_competition_v1_labels_train/ref_agrifieldnet_competition_v1_labels_train_001c1/ref_agrifieldnet_competition_v1_labels_train_001c1.json') as ll:\n",
    "    label_json = json.load(ll)"
   ]
  },
  {
   "cell_type": "code",
   "execution_count": 28,
   "id": "3853430c",
   "metadata": {},
   "outputs": [],
   "source": [
    "crop_dict = {asset.get('values')[0]:asset.get('summary') for asset in label_json['assets']['raster_labels']['file:values']}"
   ]
  },
  {
   "cell_type": "code",
   "execution_count": 29,
   "id": "e15fa339",
   "metadata": {},
   "outputs": [
    {
     "data": {
      "text/plain": [
       "{1: 'Wheat',\n",
       " 2: 'Mustard',\n",
       " 3: 'Lentil',\n",
       " 4: 'No Crop',\n",
       " 6: 'Sugarcane',\n",
       " 8: 'Garlic',\n",
       " 15: 'Potato',\n",
       " 5: 'Green pea',\n",
       " 16: 'Bersem',\n",
       " 14: 'Coriander',\n",
       " 13: 'Gram',\n",
       " 9: 'Maize',\n",
       " 36: 'Rice'}"
      ]
     },
     "execution_count": 29,
     "metadata": {},
     "output_type": "execute_result"
    }
   ],
   "source": [
    "crop_dict"
   ]
  },
  {
   "cell_type": "code",
   "execution_count": 30,
   "id": "9e60ae9d",
   "metadata": {},
   "outputs": [],
   "source": [
    "def labeler(labeled):\n",
    "    crop_label = np.array([crop_dict.get(f'{int(i)}') for i in labeled])\n",
    "    return crop_label"
   ]
  },
  {
   "cell_type": "code",
   "execution_count": 31,
   "id": "5fb196f6",
   "metadata": {},
   "outputs": [],
   "source": [
    "predictions = rf.predict_proba(test_data_grouped.drop('field_id', axis=1 ))\n",
    "\n",
    "crop_columns = [crop_dict.get(i) for i in rf.classes_]\n",
    "\n",
    "test_df  = pd.DataFrame(columns= ['field_id'] + crop_columns)\n",
    "\n",
    "test_df['field_id'] = test_data_grouped.field_id\n",
    "\n",
    "test_df[crop_columns]= predictions \n",
    "test_df.to_csv('submission.csv', index=False)"
   ]
  },
  {
   "cell_type": "code",
   "execution_count": 32,
   "id": "20ec7bf5",
   "metadata": {},
   "outputs": [
    {
     "data": {
      "text/html": [
       "<div>\n",
       "<style scoped>\n",
       "    .dataframe tbody tr th:only-of-type {\n",
       "        vertical-align: middle;\n",
       "    }\n",
       "\n",
       "    .dataframe tbody tr th {\n",
       "        vertical-align: top;\n",
       "    }\n",
       "\n",
       "    .dataframe thead th {\n",
       "        text-align: right;\n",
       "    }\n",
       "</style>\n",
       "<table border=\"1\" class=\"dataframe\">\n",
       "  <thead>\n",
       "    <tr style=\"text-align: right;\">\n",
       "      <th></th>\n",
       "      <th>field_id</th>\n",
       "      <th>Wheat</th>\n",
       "      <th>Mustard</th>\n",
       "      <th>Lentil</th>\n",
       "      <th>No Crop</th>\n",
       "      <th>Green pea</th>\n",
       "      <th>Sugarcane</th>\n",
       "      <th>Garlic</th>\n",
       "      <th>Maize</th>\n",
       "      <th>Gram</th>\n",
       "      <th>Coriander</th>\n",
       "      <th>Potato</th>\n",
       "      <th>Bersem</th>\n",
       "      <th>Rice</th>\n",
       "    </tr>\n",
       "  </thead>\n",
       "  <tbody>\n",
       "    <tr>\n",
       "      <th>0</th>\n",
       "      <td>11</td>\n",
       "      <td>0.10</td>\n",
       "      <td>0.40</td>\n",
       "      <td>0.0</td>\n",
       "      <td>0.15</td>\n",
       "      <td>0.0</td>\n",
       "      <td>0.30</td>\n",
       "      <td>0.0</td>\n",
       "      <td>0.0</td>\n",
       "      <td>0.0</td>\n",
       "      <td>0.0</td>\n",
       "      <td>0.05</td>\n",
       "      <td>0.0</td>\n",
       "      <td>0.0</td>\n",
       "    </tr>\n",
       "    <tr>\n",
       "      <th>1</th>\n",
       "      <td>13</td>\n",
       "      <td>0.65</td>\n",
       "      <td>0.25</td>\n",
       "      <td>0.0</td>\n",
       "      <td>0.10</td>\n",
       "      <td>0.0</td>\n",
       "      <td>0.00</td>\n",
       "      <td>0.0</td>\n",
       "      <td>0.0</td>\n",
       "      <td>0.0</td>\n",
       "      <td>0.0</td>\n",
       "      <td>0.00</td>\n",
       "      <td>0.0</td>\n",
       "      <td>0.0</td>\n",
       "    </tr>\n",
       "    <tr>\n",
       "      <th>2</th>\n",
       "      <td>19</td>\n",
       "      <td>0.30</td>\n",
       "      <td>0.20</td>\n",
       "      <td>0.0</td>\n",
       "      <td>0.45</td>\n",
       "      <td>0.0</td>\n",
       "      <td>0.05</td>\n",
       "      <td>0.0</td>\n",
       "      <td>0.0</td>\n",
       "      <td>0.0</td>\n",
       "      <td>0.0</td>\n",
       "      <td>0.00</td>\n",
       "      <td>0.0</td>\n",
       "      <td>0.0</td>\n",
       "    </tr>\n",
       "    <tr>\n",
       "      <th>3</th>\n",
       "      <td>21</td>\n",
       "      <td>0.00</td>\n",
       "      <td>0.15</td>\n",
       "      <td>0.0</td>\n",
       "      <td>0.80</td>\n",
       "      <td>0.0</td>\n",
       "      <td>0.05</td>\n",
       "      <td>0.0</td>\n",
       "      <td>0.0</td>\n",
       "      <td>0.0</td>\n",
       "      <td>0.0</td>\n",
       "      <td>0.00</td>\n",
       "      <td>0.0</td>\n",
       "      <td>0.0</td>\n",
       "    </tr>\n",
       "    <tr>\n",
       "      <th>4</th>\n",
       "      <td>25</td>\n",
       "      <td>0.30</td>\n",
       "      <td>0.10</td>\n",
       "      <td>0.2</td>\n",
       "      <td>0.30</td>\n",
       "      <td>0.0</td>\n",
       "      <td>0.10</td>\n",
       "      <td>0.0</td>\n",
       "      <td>0.0</td>\n",
       "      <td>0.0</td>\n",
       "      <td>0.0</td>\n",
       "      <td>0.00</td>\n",
       "      <td>0.0</td>\n",
       "      <td>0.0</td>\n",
       "    </tr>\n",
       "  </tbody>\n",
       "</table>\n",
       "</div>"
      ],
      "text/plain": [
       "  field_id  Wheat  Mustard  Lentil  No Crop  Green pea  Sugarcane  Garlic  \\\n",
       "0       11   0.10     0.40     0.0     0.15        0.0       0.30     0.0   \n",
       "1       13   0.65     0.25     0.0     0.10        0.0       0.00     0.0   \n",
       "2       19   0.30     0.20     0.0     0.45        0.0       0.05     0.0   \n",
       "3       21   0.00     0.15     0.0     0.80        0.0       0.05     0.0   \n",
       "4       25   0.30     0.10     0.2     0.30        0.0       0.10     0.0   \n",
       "\n",
       "   Maize  Gram  Coriander  Potato  Bersem  Rice  \n",
       "0    0.0   0.0        0.0    0.05     0.0   0.0  \n",
       "1    0.0   0.0        0.0    0.00     0.0   0.0  \n",
       "2    0.0   0.0        0.0    0.00     0.0   0.0  \n",
       "3    0.0   0.0        0.0    0.00     0.0   0.0  \n",
       "4    0.0   0.0        0.0    0.00     0.0   0.0  "
      ]
     },
     "execution_count": 32,
     "metadata": {},
     "output_type": "execute_result"
    }
   ],
   "source": [
    "test_df.head()"
   ]
  },
  {
   "cell_type": "code",
   "execution_count": null,
   "id": "cfe4bc99",
   "metadata": {},
   "outputs": [],
   "source": []
  }
 ],
 "metadata": {
  "kernelspec": {
   "display_name": "Python 3 (ipykernel)",
   "language": "python",
   "name": "python3"
  },
  "language_info": {
   "codemirror_mode": {
    "name": "ipython",
    "version": 3
   },
   "file_extension": ".py",
   "mimetype": "text/x-python",
   "name": "python",
   "nbconvert_exporter": "python",
   "pygments_lexer": "ipython3",
   "version": "3.8.13"
  }
 },
 "nbformat": 4,
 "nbformat_minor": 5
}
