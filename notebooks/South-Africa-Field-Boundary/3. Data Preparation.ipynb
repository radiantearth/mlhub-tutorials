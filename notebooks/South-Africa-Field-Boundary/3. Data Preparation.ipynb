{
 "cells": [
  {
   "cell_type": "markdown",
   "id": "52f7b519",
   "metadata": {},
   "source": [
    "<img src='https://radiant-assets.s3-us-west-2.amazonaws.com/PrimaryRadiantMLHubLogo.png' alt='Radiant MLHub Logo' width='300'/>\n",
    "\n",
    "# South Africa Field Boundary Detection Tutorial"
   ]
  },
  {
   "cell_type": "markdown",
   "id": "9235563d",
   "metadata": {},
   "source": [
    "## Data Preparation\n",
    "\n",
    "In this tutorial, we will prepare the augmented training data into training, validation and test data."
   ]
  },
  {
   "cell_type": "code",
   "execution_count": null,
   "id": "723182ae",
   "metadata": {},
   "outputs": [],
   "source": [
    "import os\n",
    "os.environ['CUDA_VISIBLE_DEVICES'] = '0' #gpu"
   ]
  },
  {
   "cell_type": "code",
   "execution_count": null,
   "id": "4d0fa3c1",
   "metadata": {},
   "outputs": [],
   "source": [
    "from pathlib import Path\n",
    "downloads_path = str(Path().resolve())\n",
    "data_path =str(f\"{downloads_path}/data\")"
   ]
  },
  {
   "cell_type": "markdown",
   "id": "da1c15a9",
   "metadata": {},
   "source": [
    "### Importing necessary libraries"
   ]
  },
  {
   "cell_type": "code",
   "execution_count": null,
   "id": "548259ea",
   "metadata": {},
   "outputs": [],
   "source": [
    "import torch\n",
    "import os\n",
    "import sys\n",
    "import random\n",
    "\n",
    "import cv2\n",
    "import re\n",
    "import warnings\n",
    "\n",
    "import numpy as np\n",
    "import pandas as pd\n",
    "\n",
    "import matplotlib.pyplot as plt\n",
    "from PIL import Image\n",
    "\n",
    "from tqdm import tqdm\n",
    "from itertools import chain\n",
    "import json"
   ]
  },
  {
   "cell_type": "code",
   "execution_count": null,
   "id": "58281f42",
   "metadata": {},
   "outputs": [],
   "source": [
    "augmented_path = data_path+\"/augmented/\" #augmented data from previous notebook\n",
    "FRAME_PATH = augmented_path+'/fields/' #for image without mask\n",
    "MASK_PATH = augmented_path+'/masks/' #for image with mask\n",
    "val_frame_path = f\"{augmented_path}/val_frames\" #validation data without mask\n",
    "val_mask_path = f\"{augmented_path}/val_masks\" #validation data with mask\n",
    "%cd \"{data_path}/fields\"\n",
    "%rm -rf .ipynb_checkpoints #remove any jupyter checkpoints that may disrupt the data items\n",
    "%cd \"{data_path}/masks\"\n",
    "%rm -rf .ipynb_checkpoints"
   ]
  },
  {
   "cell_type": "markdown",
   "id": "5f0fab53",
   "metadata": {},
   "source": [
    "Next, we checked for images with empty labels/masks.\n",
    "\n",
    "These images do not contribute to any info for training, hence are not relevant.\n",
    "\n",
    "After removing the empty images and masks, we would then add images containing masks to a train, validation and test frame (and mask) in 70:20:10 ratio for model development.\n",
    "\n",
    "Note that the test data for model evaluation would be using the original fields and masks, and not the augmented test data here. The purpose of splitting into a test data of augmented images here is to illustrate how this data can be divided into training, validation and test data"
   ]
  },
  {
   "cell_type": "code",
   "execution_count": null,
   "id": "a9cfcee8",
   "metadata": {},
   "outputs": [],
   "source": [
    "#check if there are any images containing no masks\n",
    "#this took about 5 mins\n",
    "for filename in os.listdir(MASK_PATH):\n",
    "    if (filename.endswith(\".png\")):\n",
    "        masked = np.array(Image.open(f\"{MASK_PATH}/\"+ filename))\n",
    "        obj_ids = np.unique(masked)  # Sorted\n",
    "        obj_ids = obj_ids[1:]\n",
    "\n",
    "        # Split the index-encoded mask into a set of binary masks\n",
    "        masks = masked == obj_ids[:, None, None]\n",
    "\n",
    "        # Get bounding box (target) coordinates for each mask\n",
    "        num_objs = len(obj_ids)\n",
    "        boxes = []\n",
    "        for i in range(num_objs):\n",
    "            pos = np.where(masks[i])\n",
    "            xmin = np.min(pos[1])\n",
    "            xmax = np.max(pos[1])\n",
    "            ymin = np.min(pos[0])\n",
    "            ymax = np.max(pos[0])\n",
    "            boxes.append([xmin, ymin, xmax, ymax])\n",
    "        boxes = torch.as_tensor(boxes, dtype=torch.float32)  # type: ignore\n",
    "        try: #checking if these parameters' values will throw an exception\n",
    "            target = {\n",
    "            \"boxes\": boxes,\n",
    "            \"labels\": torch.ones((num_objs,), dtype=torch.int64),  # type: ignore\n",
    "            \"masks\": torch.as_tensor(masks, dtype=torch.uint8),  # type: ignore\n",
    "            \"image_id\": torch.tensor([4]),  # type: ignore\n",
    "            \"area\": (boxes[:, 3,] - boxes[:, 1,]) * (boxes[:, 2,] - boxes[:, 0,]),  # type: ignore\n",
    "            \"iscrowd\": torch.zeros((num_objs,), dtype=torch.int64),  # type: ignore\n",
    "        }\n",
    "        except: #if there is excepion, it means there is a missing item from the list, hence no mask\n",
    "            #print(filename)\n",
    "            field_loc=FRAME_PATH + filename\n",
    "            mask_loc = f\"{MASK_PATH}/\"+filename\n",
    "            if os.path.exists(field_loc):\n",
    "                os.remove(field_loc)\n",
    "            if os.path.exists(mask_loc):\n",
    "                os.remove(mask_loc)"
   ]
  },
  {
   "cell_type": "code",
   "execution_count": null,
   "id": "f00e0776",
   "metadata": {},
   "outputs": [],
   "source": [
    "######## folders for train, validation and test frame images without mask (x) and with mask (y)\n",
    "folders = ['train_frames', 'train_masks', 'val_frames', 'val_masks', 'test_frames', 'test_masks']\n",
    "for folder in folders:\n",
    "    os.makedirs(augmented_path + '/'+folder)"
   ]
  },
  {
   "cell_type": "code",
   "execution_count": null,
   "id": "99f4110b",
   "metadata": {},
   "outputs": [],
   "source": [
    "all_frames = os.listdir(FRAME_PATH)\n",
    "all_masks = os.listdir(MASK_PATH)"
   ]
  },
  {
   "cell_type": "code",
   "execution_count": null,
   "id": "6acd677d",
   "metadata": {},
   "outputs": [],
   "source": [
    "# Generate train, val, and test sets for frames\n",
    "random.shuffle(all_frames)\n",
    "train_split = int(0.7*len(all_frames))\n",
    "val_split = int(0.9 * len(all_frames))\n",
    "\n",
    "train_frames = train_masks = all_frames[:train_split]\n",
    "val_frames = val_masks = all_frames[train_split:val_split]\n",
    "test_frames = test_masks = all_frames[val_split:]"
   ]
  },
  {
   "cell_type": "code",
   "execution_count": null,
   "id": "ee97140b",
   "metadata": {},
   "outputs": [],
   "source": [
    "#Add train, val, test frames and masks to relevant folders\n",
    "\n",
    "\n",
    "def add_frames(dir_name, image):\n",
    "  \n",
    "  img = Image.open(FRAME_PATH+image)\n",
    "  img.save(augmented_path+'/{}'.format(dir_name)+'/'+image)\n",
    "  \n",
    "  \n",
    "  \n",
    "def add_masks(dir_name, image):\n",
    "  \n",
    "  img = Image.open(MASK_PATH+image)\n",
    "  img.save(augmented_path+'/{}'.format(dir_name)+'/'+image)\n",
    "\n",
    "\n",
    "  \n",
    "  \n",
    "frame_folders = [(train_frames, 'train_frames'), (val_frames, 'val_frames'), \n",
    "                 (test_frames, 'test_frames')]\n",
    "\n",
    "mask_folders = [(train_masks, 'train_masks'), (val_masks, 'val_masks'), \n",
    "                (test_masks, 'test_masks')]"
   ]
  },
  {
   "cell_type": "code",
   "execution_count": null,
   "id": "9d49cd08",
   "metadata": {},
   "outputs": [],
   "source": [
    "#This took approximately 23 mins\n",
    "# Add frames\n",
    "\n",
    "for folder in frame_folders:\n",
    "  \n",
    "  array = folder[0]\n",
    "  name = [folder[1]] * len(array)\n",
    "\n",
    "  list(map(add_frames, name, array))\n",
    "         \n",
    "    \n",
    "# Add masks\n",
    "\n",
    "for folder in mask_folders:\n",
    "  \n",
    "  array = folder[0]\n",
    "  name = [folder[1]] * len(array)\n",
    "  \n",
    "  list(map(add_masks, name, array))"
   ]
  }
 ],
 "metadata": {
  "hide_input": false,
  "kernelspec": {
   "display_name": "Python 3 (ipykernel)",
   "language": "python",
   "name": "python3"
  },
  "language_info": {
   "codemirror_mode": {
    "name": "ipython",
    "version": 3
   },
   "file_extension": ".py",
   "mimetype": "text/x-python",
   "name": "python",
   "nbconvert_exporter": "python",
   "pygments_lexer": "ipython3",
   "version": "3.9.13"
  }
 },
 "nbformat": 4,
 "nbformat_minor": 5
}
