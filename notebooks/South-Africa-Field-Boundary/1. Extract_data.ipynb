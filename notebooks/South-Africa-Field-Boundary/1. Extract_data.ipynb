{
 "cells": [
  {
   "cell_type": "markdown",
   "id": "96f92c15",
   "metadata": {},
   "source": [
    "<img src='https://radiant-assets.s3-us-west-2.amazonaws.com/PrimaryRadiantMLHubLogo.png' alt='Radiant MLHub Logo' width='300'/>\n",
    "\n",
    "# South Africa Field Boundary Detection Tutorial"
   ]
  },
  {
   "cell_type": "markdown",
   "id": "c4fe8c59",
   "metadata": {},
   "source": [
    "## Setting up Environment and Extracting Data"
   ]
  },
  {
   "cell_type": "markdown",
   "id": "265298aa",
   "metadata": {},
   "source": [
    "This notebook delves into obtaining and extracting the data from an S3 bucket.\n",
    "\n",
    "We will set up the path for downloading the data, obtain the field data folder from the S3 bucket, then extract the files from this folder."
   ]
  },
  {
   "cell_type": "code",
   "execution_count": 1,
   "id": "99aaf0af",
   "metadata": {},
   "outputs": [],
   "source": [
    "from pathlib import Path\n",
    "import rasterio\n",
    "import numpy as np\n",
    "import os\n",
    "downloads_path = str(Path().resolve()) #change to whichever directory you use"
   ]
  },
  {
   "cell_type": "code",
   "execution_count": 12,
   "id": "0a8086c3",
   "metadata": {},
   "outputs": [],
   "source": [
    "import boto3\n",
    "s3 = boto3.resource('s3') #use amazon s3 resource for this. we will extract the bucket containing the data files"
   ]
  },
  {
   "cell_type": "markdown",
   "id": "7ce4b090",
   "metadata": {},
   "source": [
    "We will then extract the data to the `extracted_data` directory in the our `data` folder."
   ]
  },
  {
   "cell_type": "code",
   "execution_count": 11,
   "id": "1b984120",
   "metadata": {},
   "outputs": [],
   "source": [
    "import os\n",
    "def download_s3_folder(bucket_name, s3_folder, local_dir='extracted_data'):\n",
    "    \"\"\"\n",
    "    Download the contents of a folder directory\n",
    "    Args:\n",
    "        bucket_name: the name of the s3 bucket\n",
    "        s3_folder: the folder path in the s3 bucket\n",
    "        local_dir: a relative or absolute directory path in the local file system\n",
    "    \"\"\"\n",
    "    bucket = s3.Bucket(bucket_name)\n",
    "    for obj in bucket.objects.filter(Prefix=s3_folder):\n",
    "        target = obj.key if local_dir is None \\\n",
    "            else os.path.join(local_dir, os.path.relpath(obj.key, s3_folder))\n",
    "        if not os.path.exists(os.path.dirname(target)): #if extracted_data doesn't exist\n",
    "            os.makedirs(os.path.dirname(target), exist_ok=True)\n",
    "        if obj.key[-1] == '/':\n",
    "            continue\n",
    "        bucket.download_file(obj.key, target)\n",
    "        \n",
    "download_s3_folder('radiant-label-chips', 'south-africa-crops-field-boundary', 'data/extracted_data')\n"
   ]
  },
  {
   "cell_type": "markdown",
   "id": "6374b0fd",
   "metadata": {},
   "source": [
    "If data has already been obtained as a .zip file, this method can be used to extract its contents: (NOTE that you should only run the below block of code if the data was given in a `zip` archive as stated)"
   ]
  },
  {
   "cell_type": "code",
   "execution_count": null,
   "id": "b77e7bf9",
   "metadata": {},
   "outputs": [],
   "source": [
    "import zipfile\n",
    "path_to_zip_file = f\"{downloads_path}/south-africa-crops-field-boundary.zip\"\n",
    "directory_to_extract_to = f\"{downloads_path}/data/extracted_data\"\n",
    "with zipfile.ZipFile(path_to_zip_file, 'r') as zip_ref:\n",
    "    zip_ref.extractall(directory_to_extract_to)"
   ]
  },
  {
   "cell_type": "markdown",
   "id": "3dbfcfee",
   "metadata": {},
   "source": [
    "In this notebook, we will make use of the RGB bands from sentinel-2, where\n",
    "- Red is band `B04`\n",
    "- Blue is band `B03`\n",
    "- Green is band `B02`\n",
    "\n",
    "We will then load the three bands into a single image using `rasterio` and write it into the `images` directory in our `data` folder as seen below"
   ]
  },
  {
   "cell_type": "code",
   "execution_count": 2,
   "id": "9c9f50b5",
   "metadata": {},
   "outputs": [],
   "source": [
    "import rasterio\n",
    "import numpy as np\n",
    "import os\n",
    "if not os.path.isdir(f\"{downloads_path}/data/images/\"):\n",
    "    os.makedirs(f\"{downloads_path}/data/images/\")\n",
    "\n",
    "source = f\"{downloads_path}/data/extracted_data/imagery/s2\" #source image\n",
    "for root, dirs, files in os.walk(source):\n",
    "    for file in dirs:\n",
    "        source_files = [\n",
    "            f\"{source}/\" + file + \"/\" + file +\"_B04_10m.tif\", #RED\n",
    "            f\"{source}/\"+ file + \"/\" + file + \"_B03_10m.tif\", #BLUE\n",
    "            f\"{source}/\" + file + \"/\" + file + \"_B02_10m.tif\" #GREEN\n",
    "                ]\n",
    "\n",
    "        all_bands = np.zeros((len(source_files), 256, 256), dtype=np.uint8) #three bands\n",
    "        profile = None\n",
    "        for i, fil in enumerate(source_files):\n",
    "            with rasterio.open(fil) as dataset:\n",
    "                bands = dataset.read()\n",
    "                all_bands[i] = bands[0] #placing the three bands in one image\n",
    "                profile = dataset.profile\n",
    "\n",
    "        profile.update(count=len(source_files))\n",
    "\n",
    "        with rasterio.open(f\"{downloads_path}/data/images/\" +file+'.tif', 'w+', **profile) as dst: #source images directory\n",
    "            dst.write(all_bands)"
   ]
  }
 ],
 "metadata": {
  "hide_input": false,
  "kernelspec": {
   "display_name": "Python 3 (ipykernel)",
   "language": "python",
   "name": "python3"
  },
  "language_info": {
   "codemirror_mode": {
    "name": "ipython",
    "version": 3
   },
   "file_extension": ".py",
   "mimetype": "text/x-python",
   "name": "python",
   "nbconvert_exporter": "python",
   "pygments_lexer": "ipython3",
   "version": "3.9.13"
  }
 },
 "nbformat": 4,
 "nbformat_minor": 5
}
