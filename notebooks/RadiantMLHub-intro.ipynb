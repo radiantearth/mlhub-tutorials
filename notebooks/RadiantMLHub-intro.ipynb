{
 "cells": [
  {
   "cell_type": "markdown",
   "id": "julian-remainder",
   "metadata": {},
   "source": [
    "<img src='https://radiant-assets.s3-us-west-2.amazonaws.com/PrimaryRadiantMLHubLogo.png' alt='Radiant MLHub Logo' width='300'/>"
   ]
  },
  {
   "cell_type": "markdown",
   "id": "future-siemens",
   "metadata": {},
   "source": [
    "# How to access Radiant MLHub data\n",
    "\n",
    "The Radiant MLHub API gives access to open Earth observation (EO) training data for machine learning. You can learn more about the repository at the [Radiant MLHub site](https://mlhub.earth) and the organization behind it at the [Radiant Earth Foundation site](https://radiant.earth). \n",
    "\n",
    "This is an introductory guide to accessing data. Full documentation for the API is available at https://docs.mlhub.earth. A Jupyter Notebook with sample codes to use the API is also available on Radiant Earth’s [GitHub](https://github.com/radiantearth/mlhub-tutorials). \n",
    "\n",
    "You will begin by setting up your authorization, viewing the list of available training data collections and datasets, and retrieving the *items* (the pieces of data contained within them) from those collections. Basic familiarity with Python will be required to access and use the data. \n",
    "\n",
    "Radiant MLHub uses [STAC](https://stacspec.org/) standard for cataloging training datasets. Each item in our collection is explained in json format compliant with STAC [label extension](https://github.com/radiantearth/stac-spec/tree/master/extensions/label) definition."
   ]
  },
  {
   "cell_type": "markdown",
   "id": "stone-johns",
   "metadata": {},
   "source": [
    "## Setting up and viewing Collections\n",
    "\n",
    "Access to the Radiant MLHub API requires an access token. To get your access token, go to [mlhub.earth/profile](https://mlhub.earth/profile). If you have not used Radiant MLHub before, you will need to sign up and create a new account. Otherwise, sign in. Under **Usage**, you'll see your access token, which you will need. *Do not share* your access token with others: your usage may be limited and sharing your access token is a security risk. \n",
    "\n",
    "To see what training data is available, you will need to access the collections available through the API. A collection represents the top-most data level. Typically, this means the data comes from the same source for the same geography. It might include different years or sub-geographies. \n",
    "\n",
    "To find data with specific parameters, see the [API documentation](https://docs.mlhub.earth/?python#the-feature-collections-in-the-dataset). Use the collections endpoint to retrieve a list of all collections available and their associated ids."
   ]
  },
  {
   "cell_type": "markdown",
   "id": "studied-audit",
   "metadata": {},
   "source": [
    "## Access items\n",
    "\n",
    "Once you have found the collection that you want to access, you can call the item from the API. \n",
    "\n",
    "You can then limit what data you get from the item using the optional parameters:\n",
    "\n",
    "* **Limit** limits how many items will be returned, with a minimum of 1 and a maximum of 10000.\n",
    "* **Bounding box** limits the returned items to a specific geographic area.\n",
    "* **Date time** limits the returned items to those that fall within a specific time-frame. See the [get features](https://docs.mlhub.earth/#getfeatures) API documentation for more information."
   ]
  },
  {
   "cell_type": "code",
   "execution_count": null,
   "id": "buried-colombia",
   "metadata": {},
   "outputs": [],
   "source": []
  }
 ],
 "metadata": {
  "kernelspec": {
   "display_name": "Python 3",
   "language": "python",
   "name": "python3"
  },
  "language_info": {
   "codemirror_mode": {
    "name": "ipython",
    "version": 3
   },
   "file_extension": ".py",
   "mimetype": "text/x-python",
   "name": "python",
   "nbconvert_exporter": "python",
   "pygments_lexer": "ipython3",
   "version": "3.6.7"
  }
 },
 "nbformat": 4,
 "nbformat_minor": 5
}
