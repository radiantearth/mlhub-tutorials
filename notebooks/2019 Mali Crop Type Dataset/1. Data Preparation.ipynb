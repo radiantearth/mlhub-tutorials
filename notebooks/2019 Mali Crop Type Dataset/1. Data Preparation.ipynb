{
 "cells": [
  {
   "cell_type": "markdown",
   "metadata": {},
   "source": [
    "<img src='https://radiant-assets.s3-us-west-2.amazonaws.com/PrimaryRadiantMLHubLogo.png' alt='Radiant MLHub Logo' width='300'/>\n",
    "\n",
    "# 2019 Mali Crop Type Dataset Tutorial\n",
    "# A Guide to Access the data on Radiant MLHub\n",
    "\n",
    "\n",
    "This notebook walks you through the steps to get access to Radiant MLHub and access the data for the 2019 Mali crop type dataset, which will be used for mdoel training to develop a baseline model."
   ]
  },
  {
   "cell_type": "markdown",
   "metadata": {},
   "source": [
    "## Radiant MLHub API\n",
    "\n",
    "\n",
    "The Radiant MLHub API gives access to open Earth imagery training data for machine learning applications. You can learn more about the repository at the [Radiant MLHub site](https://mlhub.earth) and about the organization behind it at the [Radiant Earth Foundation site](https://radiant.earth).\n",
    "\n",
    "Full documentation for the API is available at [docs.mlhub.earth](docs.mlhub.earth).\n",
    "\n",
    "Each item in our collection is explained in json format compliant with [STAC](https://stacspec.org/) [label extension](https://github.com/radiantearth/stac-spec/tree/master/extensions/label) definition."
   ]
  },
  {
   "cell_type": "markdown",
   "metadata": {},
   "source": [
    "## Dependencies\n",
    "\n",
    "This notebook utilizes the [`radiant-mlhub` Python client](https://pypi.org/project/radiant-mlhub/) for interacting with the API. If you are running this notebooks using Binder, then this dependency has already been installed. If you are running this notebook locally, you will need to install this yourself.\n",
    "\n",
    "See the official [`radiant-mlhub` docs](https://radiant-mlhub.readthedocs.io/) for more documentation of the full functionality of that library.\n",
    "\n",
    "The notebook uses [`rasterio`](https://rasterio.readthedocs.io/en/latest/) for reading the bands from sentinel-2 images and [`numpy`](https://numpy.org/doc/stable/) for array computations."
   ]
  },
  {
   "cell_type": "code",
   "execution_count": 1,
   "metadata": {},
   "outputs": [],
   "source": [
    "# Required libraries\n",
    "from radiant_mlhub import Dataset, client\n",
    "import tarfile\n",
    "from pathlib import Path\n",
    "import rasterio\n",
    "import os\n",
    "import numpy as np"
   ]
  },
  {
   "cell_type": "markdown",
   "metadata": {},
   "source": [
    "## Authentication\n",
    "\n",
    "### Create an API Key\n",
    "\n",
    "Access to the Radiant MLHub API requires an API key. To get your API key, go to [dashboard.mlhub.earth](https://dashboard.mlhub.earth). If you have not used Radiant MLHub before, you will need to sign up and create a new account. Otherwise, sign in. In the **API Keys** tab, you'll be able to create API key(s), which you will need. *Do not share* your API key with others: your usage may be limited and sharing your API key is a security risk.\n",
    "\n",
    "### Configure the Client\n",
    "\n",
    "Once you have your API key, you need to configure the `radiant_mlhub` library to use that key. There are a number of ways to configure this (see the [Authentication docs](https://radiant-mlhub.readthedocs.io/en/latest/authentication.html) for details). \n",
    "\n",
    "For these examples, we will set the `MLHUB_API_KEY` environment variable. Run the cell below to save your API key as an environment variable that the client library will recognize.\n",
    "\n",
    "*If you are running this notebook locally and have configured a profile as described in the [Authentication docs](https://radiant-mlhub.readthedocs.io/en/latest/authentication.html), then you do not need to execute this cell.*\n"
   ]
  },
  {
   "cell_type": "code",
   "execution_count": 2,
   "metadata": {},
   "outputs": [],
   "source": [
    "import os\n",
    "os.environ['MLHUB_API_KEY'] = 'paste your api key' #paste your api key"
   ]
  },
  {
   "cell_type": "markdown",
   "metadata": {},
   "source": [
    "## Retrieving the competition dataset\n",
    "\n",
    "Datasets are stored as collections on Radiant MLHub catalog. A collection represents the top-most data level. Typically this means the data comes from the same source for the same geography. It might include different years or sub-geographies.\n",
    "\n",
    "The dataset for this competition is `umd_mali_crop_type`."
   ]
  },
  {
   "cell_type": "code",
   "execution_count": 3,
   "metadata": {},
   "outputs": [
    {
     "name": "stdout",
     "output_type": "stream",
     "text": [
      "ID: umd_mali_crop_type\n",
      "Title: 2019 Mali CropType Training Data\n",
      "Collections:\n",
      "* umd_mali_crop_type_labels\n",
      "* umd_mali_crop_type_source\n"
     ]
    }
   ],
   "source": [
    "dataset = Dataset.fetch('umd_mali_crop_type')\n",
    "\n",
    "print(f'ID: {dataset.id}')\n",
    "print(f'Title: {dataset.title}')\n",
    "print('Collections:')\n",
    "for collection in dataset.collections:\n",
    "    print(f'* {collection.id}')"
   ]
  },
  {
   "cell_type": "markdown",
   "metadata": {},
   "source": [
    "The two collections associated with this dataset are:\n",
    "- `umd_mali_crop_type_source`: includes the multi-temporal bands of Sentinel-2\n",
    "- `umd_mali_crop_type_labels`: includes the labels and field IDs"
   ]
  },
  {
   "cell_type": "markdown",
   "metadata": {},
   "source": [
    "### Downloading Labels\n",
    "\n",
    "ML Hub makes archives available that contain all the assets for a given collection. We will download these archives for the `umd_mali_crop_type_source` and `umd_mali_crop_type_labels` collections."
   ]
  },
  {
   "cell_type": "code",
   "execution_count": 4,
   "metadata": {},
   "outputs": [],
   "source": [
    "# output path where you want to download the data\n",
    "output_path = Path(\"./data/\").resolve()"
   ]
  },
  {
   "cell_type": "code",
   "execution_count": 5,
   "metadata": {
    "scrolled": true
   },
   "outputs": [
    {
     "data": {
      "application/vnd.jupyter.widget-view+json": {
       "model_id": "521d9baeb99f4558b1beaa68740072f2",
       "version_major": 2,
       "version_minor": 0
      },
      "text/plain": [
       "  0%|          | 0/0.2 [00:00<?, ?M/s]"
      ]
     },
     "metadata": {},
     "output_type": "display_data"
    },
    {
     "data": {
      "application/vnd.jupyter.widget-view+json": {
       "model_id": "48131d40eae54c18abf027d0da0ad970",
       "version_major": 2,
       "version_minor": 0
      },
      "text/plain": [
       "  0%|          | 0/473.9 [00:00<?, ?M/s]"
      ]
     },
     "metadata": {},
     "output_type": "display_data"
    },
    {
     "name": "stdout",
     "output_type": "stream",
     "text": [
      "Extracting /Users/mac/Downloads/umd_mali_crop_type/data/umd_mali_crop_type_labels.tar.gz...\n",
      "Extracting /Users/mac/Downloads/umd_mali_crop_type/data/umd_mali_crop_type_source.tar.gz...\n",
      "Done\n",
      "\n"
     ]
    }
   ],
   "source": [
    "archive_paths = dataset.download(output_dir=output_path)\n",
    "for archive_path in archive_paths:\n",
    "    print(f'Extracting {archive_path}...')\n",
    "    with tarfile.open(archive_path) as tfile:\n",
    "        tfile.extractall(path=output_path)\n",
    "\n",
    "print('Done\\n')\n"
   ]
  },
  {
   "cell_type": "markdown",
   "metadata": {},
   "source": [
    "In this tutorial, we will make use of the RGB bands from sentinel-2, where\n",
    "- Red is band `B04`\n",
    "- Blue is band `B03`\n",
    "- Green is band `B02`\n",
    "\n",
    "We will then load the three bands into a single image using `rasterio` and write it into the `rgb_source` folder as seen below"
   ]
  },
  {
   "cell_type": "code",
   "execution_count": 2,
   "metadata": {},
   "outputs": [],
   "source": [
    "#source and label file paths\n",
    "data = Path(\"./data\").resolve()\n",
    "source = Path(\"./data/umd_mali_crop_type_source\").resolve()\n",
    "label = Path(\"./data/umd_mali_crop_type_labels\").resolve()"
   ]
  },
  {
   "cell_type": "code",
   "execution_count": 3,
   "metadata": {},
   "outputs": [],
   "source": [
    "#creating the folder for storing the rgb bands\n",
    "if not os.path.isdir(f\"{data}/rgb_source/\"):\n",
    "    os.makedirs(f\"{data}/rgb_source/\")"
   ]
  },
  {
   "cell_type": "code",
   "execution_count": 4,
   "metadata": {},
   "outputs": [],
   "source": [
    "# Load in source images\n",
    "for i in range(0,len(next(os.walk(source))[1])):\n",
    "        source_items= [\n",
    "            f\"{source}/{next(os.walk(source))[1][i]}/B04.tif\", #red\n",
    "             f\"{source}/{next(os.walk(source))[1][i]}/B03.tif\", #blue\n",
    "             f\"{source}/{next(os.walk(source))[1][i]}/B02.tif\", #green\n",
    "        ]\n",
    "        all_bands = np.zeros((len(source_items), 256, 256), dtype=np.uint8) #three bands to read\n",
    "        profile = None\n",
    "        for j, item in enumerate(source_items):\n",
    "            with rasterio.open(item) as dataset:\n",
    "                bands = dataset.read()\n",
    "                all_bands[j] = bands[0] #placing the three bands in one image\n",
    "                profile = dataset.profile\n",
    "        profile.update(count=len(source_items))\n",
    "\n",
    "        with rasterio.open(f\"{data}/rgb_source/\" +next(os.walk(source))[1][i]+'.tif', 'w+', **profile) as dst:\n",
    "            dst.write(all_bands) #write them in memory"
   ]
  }
 ],
 "metadata": {
  "kernelspec": {
   "display_name": "Python 3 (ipykernel)",
   "language": "python",
   "name": "python3"
  },
  "language_info": {
   "codemirror_mode": {
    "name": "ipython",
    "version": 3
   },
   "file_extension": ".py",
   "mimetype": "text/x-python",
   "name": "python",
   "nbconvert_exporter": "python",
   "pygments_lexer": "ipython3",
   "version": "3.8.13"
  }
 },
 "nbformat": 4,
 "nbformat_minor": 4
}
