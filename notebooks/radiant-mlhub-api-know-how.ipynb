{
 "cells": [
  {
   "cell_type": "markdown",
   "metadata": {},
   "source": [
    "<img src='https://radiant-assets.s3-us-west-2.amazonaws.com/PrimaryRadiantMLHubLogo.png' alt='Radiant MLHub Logo' width='300'/>\n",
    "\n",
    "# How to use the Radiant MLHub API\n",
    "\n",
    "The Radiant MLHub API gives access to open Earth imagery training data for machine learning applications. You can learn more about the repository at the [Radiant MLHub site](https://mlhub.earth) and about the organization behind it at the [Radiant Earth Foundation site](https://radiant.earth).\n",
    "\n",
    "This Jupyter notebook, which you may copy and adapt for any use, shows basic examples of how to use the API. Full documentation for the API is available at [docs.mlhub.earth](docs.mlhub.earth).\n",
    "\n",
    "We'll show you how to set up your authorization, see the list of available collections and datasets, and retrieve the items (the data contained within them) from those collections. \n",
    "\n",
    "Each item in our collection is explained in json format compliant with [STAC](https://stacspec.org/) [label extension](https://github.com/radiantearth/stac-spec/tree/master/extensions/label) definition."
   ]
  },
  {
   "cell_type": "markdown",
   "metadata": {},
   "source": [
    "## Dependencies\n",
    "\n",
    "This notebook utilizes the [`radiant-mlhub` Python client](https://pypi.org/project/radiant-mlhub/) for interacting with the API. If you are running this notebooks using Binder, then this dependency has already been installed. If you are running this notebook locally, you will need to install this yourself.\n",
    "\n",
    "See the official [`radiant-mlhub` docs](https://radiant-mlhub.readthedocs.io/) for more documentation of the full functionality of that library."
   ]
  },
  {
   "cell_type": "markdown",
   "metadata": {},
   "source": [
    "## Authentication\n",
    "\n",
    "### Create an API Key\n",
    "\n",
    "Access to the Radiant MLHub API requires an API key. To get your API key, go to [https://mlhub.earth/profile](https://mlhub.earth/profile). If you have not used Radiant MLHub before, you will need to sign up and create a new account. Otherwise, sign in. In the **API Keys** tab, you'll be able to create API key(s), which you will need. *Do not share* your API key with others: your usage may be limited and sharing your API key is a security risk.\n",
    "\n",
    "### Configure the Client\n",
    "\n",
    "Once you have your API key, you need to configure the `radiant_mlhub` library to use that key. There are a number of ways to configure this (see the [Authentication docs](https://radiant-mlhub.readthedocs.io/en/latest/authentication.html) for details). \n",
    "\n",
    "For these examples, we will set the `MLHUB_API_KEY` environment variable. Run the cell below to save your API key as an environment variable that the client library will recognize.\n",
    "\n",
    "*If you are running this notebook locally and have configured a profile as described in the [Authentication docs](https://radiant-mlhub.readthedocs.io/en/latest/authentication.html), then you do not need to execute this cell.*\n"
   ]
  },
  {
   "cell_type": "code",
   "execution_count": null,
   "metadata": {},
   "outputs": [],
   "source": [
    "import os\n",
    "\n",
    "os.environ['MLHUB_API_KEY'] = 'PASTE_YOUR_API_KEY_HERE'"
   ]
  },
  {
   "cell_type": "code",
   "execution_count": null,
   "metadata": {},
   "outputs": [],
   "source": [
    "from radiant_mlhub import client, get_session"
   ]
  },
  {
   "cell_type": "markdown",
   "metadata": {},
   "source": [
    "## List data collections\n",
    "\n",
    "A **collection** in the Radiant MLHub API is a [STAC Collection](https://github.com/radiantearth/stac-spec/tree/master/collection-spec) representing a group of resources (represented as [STAC Items](https://github.com/radiantearth/stac-spec/tree/master/item-spec) and their associated assets) covering a given spatial and temporal extent. A Radiant MLHub collection may contain resources representing training labels, source imagery, or (rarely) both.\n",
    "\n",
    "Use the `client.list_collections` function to list all available collections and view their properties. The following cell uses the `client.list_collections` function to print the ID, license (if available), and citation (if available) for all available collections."
   ]
  },
  {
   "cell_type": "code",
   "execution_count": null,
   "metadata": {},
   "outputs": [],
   "source": [
    "collections = client.list_collections()\n",
    "for c in collections:\n",
    "    collection_id = c['id']\n",
    "    license = c.get('license', 'N/A')\n",
    "    citation = c.get('sci:citation', 'N/A')\n",
    "\n",
    "    print(f'ID:       {collection_id}\\nLicense:  {license}\\nCitation: {citation}\\n')"
   ]
  },
  {
   "cell_type": "markdown",
   "metadata": {},
   "source": [
    "Collection objects have many other properties besides the ones shown above. The cell below prints the `ref_african_crops_kenya_01_labels` collection object in its entirety."
   ]
  },
  {
   "cell_type": "code",
   "execution_count": null,
   "metadata": {},
   "outputs": [],
   "source": [
    "kenya_crops_labels = next(c for c in collections if c['id'] == 'ref_african_crops_kenya_01_labels')\n",
    "kenya_crops_labels"
   ]
  },
  {
   "cell_type": "markdown",
   "metadata": {},
   "source": [
    "## Select an Item\n",
    "\n",
    "Collections have items associated with them that are used to catalog assets (labels or source imagery) for that collection. Collections vary greatly in the number of items associated with them; some may contain only a handful of items, while others may contain hundreds of thousands of items.\n",
    "\n",
    "The following cell uses the `client.list_collection_items` to get the first item in the `ref_african_crops_kenya_01_labels` collection. The `client.list_collection_items` is a Python generator that yields a dictionary for each item in the collection (you can read more about how to use Python generators [here](https://realpython.com/introduction-to-python-generators/))."
   ]
  },
  {
   "cell_type": "code",
   "execution_count": null,
   "metadata": {},
   "outputs": [],
   "source": [
    "# NOTE: Here we are using using the \"id\" property of the collection that we fetched above as the collection_id \n",
    "#  argument to the list_collection_items function\n",
    "items_iterator = client.list_collection_items(kenya_crops_labels['id'])\n",
    "\n",
    "# Get the first item\n",
    "first_item = next(items_iterator)\n",
    "first_item"
   ]
  },
  {
   "cell_type": "markdown",
   "metadata": {},
   "source": [
    "> **IMPORTANT:** Some collections may have hundreds of thousands of items (e.g. `bigearthnet_v1_source`). Looping over all of the items for these massive collections may take a very long time (perhaps on the order of hours), and is not recommended. To prevent accidentally looping over all assets, the `client.list_collection_items` function limits the total number of returned items to ``100`` by default. You can change this limit using the `limit` argument:\n",
    "> ```python\n",
    "> client.list_collection_items(collection['id'], limit=150)\n",
    "> ```\n",
    "> If you would like to download all of the assets associated with a collection, it is far more efficient to use the `client.download_archive` method."
   ]
  },
  {
   "cell_type": "markdown",
   "metadata": {},
   "source": [
    "### List Available Assets\n",
    "\n",
    "Each STAC Item has assets associated with it, representing the actual source imagery or labels described by that Item. \n",
    "\n",
    "The cell below summarizes the assets for the first item that we selected above by printing the key within the `assets` dictionary, the asset title and the media type."
   ]
  },
  {
   "cell_type": "code",
   "execution_count": null,
   "metadata": {},
   "outputs": [],
   "source": [
    "for asset_key, asset in first_item['assets'].items():\n",
    "    title = asset['title']\n",
    "    media_type = asset['type']\n",
    "    print(f'{asset_key}: {title} [{media_type}]')"
   ]
  },
  {
   "cell_type": "markdown",
   "metadata": {},
   "source": [
    "## Download Assets\n",
    "\n",
    "To download these assets, we will first set up a helper function to get the download link from the asset and then download the content to a local file.\n",
    "\n",
    "> **NOTE:** If you are running these notebooks using Binder these resources will be downloaded to the remote file system that the notebooks are running on and **not to your local file system.** If you want to download the files to your machine, you will need to clone the repo and run the notebook locally."
   ]
  },
  {
   "cell_type": "code",
   "execution_count": null,
   "metadata": {},
   "outputs": [],
   "source": [
    "import urllib.parse\n",
    "from pathlib import Path\n",
    "import requests\n",
    "\n",
    "\n",
    "def download(item, asset_key, output_dir='.'):\n",
    "    # Try to get the given asset and return None if it does not exist\n",
    "    asset = item.get('assets', {}).get(asset_key)\n",
    "    if asset is None:\n",
    "        print(f'Asset \"{asset_key}\" does not exist in this item')\n",
    "        return None\n",
    "    \n",
    "    # Try to get the download URL from the asset and return None if it does not exist\n",
    "    download_url = asset.get('href')\n",
    "    if download_url is None:\n",
    "        print(f'Asset {asset_key} does not have an \"href\" property, cannot download.')\n",
    "        return None\n",
    "    \n",
    "    session = get_session()\n",
    "    r = session.get(download_url, allow_redirects=True, stream=True)\n",
    "    \n",
    "    filename = urllib.parse.urlsplit(r.url).path.split('/')[-1]\n",
    "    output_path = Path(output_dir) / filename\n",
    "\n",
    "    \n",
    "    with output_path.open('wb') as dst:\n",
    "        for chunk in r.iter_content(chunk_size=512 * 1024):\n",
    "            if chunk:\n",
    "                dst.write(chunk)\n",
    "    \n",
    "    print(f'Downloaded to {output_path.resolve()}')\n",
    "    "
   ]
  },
  {
   "cell_type": "markdown",
   "metadata": {},
   "source": [
    "### Download Labels\n",
    "\n",
    "\n",
    "We can download the `labels` asset of the `selected_item` by calling the following function: "
   ]
  },
  {
   "cell_type": "code",
   "execution_count": null,
   "metadata": {},
   "outputs": [],
   "source": [
    "download(first_item, 'labels')"
   ]
  },
  {
   "cell_type": "markdown",
   "metadata": {},
   "source": [
    "### Download Metadata\n",
    "\n",
    "Likewise, we can download the documentation pdf and property description csv."
   ]
  },
  {
   "cell_type": "code",
   "execution_count": null,
   "metadata": {},
   "outputs": [],
   "source": [
    "download(first_item, 'documentation')\n",
    "download(first_item, 'property_descriptions')"
   ]
  },
  {
   "cell_type": "markdown",
   "metadata": {},
   "source": [
    "### Download Source Imagery\n",
    "\n",
    "The Item that we fetched earlier represents a collection of labels. This item also contains references to all of the source imagery used to generate these labels in its `links` property. Any source imagery links will have a `rel` type of `\"source\"`.\n",
    "\n",
    "In the cell below we get a list of all the sources associated with this item and fetch the first one"
   ]
  },
  {
   "cell_type": "code",
   "execution_count": null,
   "metadata": {},
   "outputs": [],
   "source": [
    "source_links = [link for link in first_item['links'] if link['rel'] == 'source']\n",
    "print(f'Number of Source Items: {len(source_links)}')\n",
    "\n",
    "session = get_session()\n",
    "r = session.get(source_links[0]['href'])\n",
    "source_item = r.json()\n",
    "print('First Item\\n--------')\n",
    "source_item"
   ]
  },
  {
   "cell_type": "markdown",
   "metadata": {},
   "source": [
    "Once we have the source item, we can use our `download` function to download assets associated with that item. \n",
    "\n",
    "The cell below downloads just the first 3 bands of the source item that we just fetched (a Sentinel 2 scene)."
   ]
  },
  {
   "cell_type": "code",
   "execution_count": null,
   "metadata": {},
   "outputs": [],
   "source": [
    "download(source_item, 'B01')\n",
    "download(source_item, 'B02')\n",
    "download(source_item, 'B03')"
   ]
  },
  {
   "cell_type": "markdown",
   "metadata": {},
   "source": [
    "### Download All Assets\n",
    "\n",
    "Looping through all items and downloading the associated assets may be *very* time-consuming for larger datasets like BigEarthNet or LandCoverNet. Instead, MLHub provides TAR archives of all collections that can be downloaded using the `/archive/{collection_id}` endpoint. \n",
    "\n",
    "The following cell uses the `client.download_archive` function to download the `ref_african_crops_kenya_01_labels` archive to the current working directory."
   ]
  },
  {
   "cell_type": "code",
   "execution_count": null,
   "metadata": {},
   "outputs": [],
   "source": [
    "client.download_archive('ref_african_crops_kenya_01_labels', output_dir='.')"
   ]
  }
 ],
 "metadata": {
  "kernelspec": {
   "display_name": "Python 3",
   "language": "python",
   "name": "python3"
  },
  "language_info": {
   "codemirror_mode": {
    "name": "ipython",
    "version": 3
   },
   "file_extension": ".py",
   "mimetype": "text/x-python",
   "name": "python",
   "nbconvert_exporter": "python",
   "pygments_lexer": "ipython3",
   "version": "3.8.3"
  }
 },
 "nbformat": 4,
 "nbformat_minor": 4
}
